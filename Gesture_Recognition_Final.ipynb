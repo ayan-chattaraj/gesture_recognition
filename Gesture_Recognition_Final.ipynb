{
  "cells": [
    {
      "cell_type": "markdown",
      "metadata": {
        "id": "H892aDrdj3cg"
      },
      "source": [
        "# Problem Statement\n",
        "\n",
        "Imagine you are working as a data scientist at a home electronics company which manufactures state of the art smart televisions. You want to develop a cool feature in the smart-TV that can recognise five different gestures performed by the user which will help users control the TV without using a remote.\n",
        "\n",
        "The gestures are continuously monitored by the webcam mounted on the TV. Each gesture corresponds to a specific command:\n",
        "\n",
        "1. Thumbs up:  Increase the volume\n",
        "2. Thumbs down: Decrease the volume\n",
        "3. Left swipe: 'Jump' backwards 10 seconds\n",
        "4. Right swipe: 'Jump' forward 10 seconds  \n",
        "5. Stop: Pause the movie"
      ]
    },
    {
      "cell_type": "markdown",
      "metadata": {
        "id": "DJz1oYRDlDaI"
      },
      "source": [
        "# Goals of this Project\n",
        "\n",
        "To accomplish the following:\n",
        "\n",
        "1. Generator:  The generator should be able to take a batch of videos as input without any error. Steps like cropping, resizing and normalization should be performed successfully.\n",
        "\n",
        "2. Model: Develop a model that is able to train without any errors which will be judged on the total number of parameters (as the inference(prediction) time should be less) and the accuracy achieved. As suggested by Snehansu, start training on a small amount of data and then proceed further.\n",
        "\n",
        "3. Write up: This should contain the detailed procedure followed in choosing the final model. The write up should start with the reason for choosing the base model, then highlight the reasons and metrics taken into consideration to modify and experiment to arrive at the final model. "
      ]
    },
    {
      "cell_type": "markdown",
      "metadata": {
        "id": "4FA906CP8HbP"
      },
      "source": [
        "# Gesture Recognition\n",
        "In this group project, you are going to build a 3D Conv model that will be able to predict the 5 gestures correctly. Please import the following libraries to get started."
      ]
    },
    {
      "cell_type": "code",
      "execution_count": null,
      "metadata": {
        "colab": {
          "base_uri": "https://localhost:8080/"
        },
        "id": "M3amSctS8jbu",
        "outputId": "207eba92-ec30-4a0a-f736-8bed4859156b"
      },
      "outputs": [
        {
          "name": "stdout",
          "output_type": "stream",
          "text": [
            "Mounted at /content/drive\n"
          ]
        }
      ],
      "source": [
        "# If you are using the data by mounting the google drive, use the following :\n",
        "from google.colab import drive\n",
        "drive.mount('/content/drive')"
      ]
    },
    {
      "cell_type": "code",
      "execution_count": null,
      "metadata": {
        "id": "14p3LhTX8Hba"
      },
      "outputs": [],
      "source": [
        "import numpy as np\n",
        "import os\n",
        "from skimage.io import imread\n",
        "from skimage.transform import resize\n",
        "#from scipy.misc import imread, imresize\n",
        "import datetime\n",
        "import os\n",
        "import matplotlib.pyplot as plt\n",
        "from keras.models import Sequential, Model\n",
        "from keras.applications import mobilenet\n",
        "from keras.layers import Dense, GRU, TimeDistributed, Flatten, BatchNormalization, Activation, Dropout,GlobalAveragePooling3D, LayerNormalization \n",
        "from keras.layers.convolutional import Conv3D, MaxPooling3D, MaxPooling2D\n",
        "from keras.callbacks import ModelCheckpoint, ReduceLROnPlateau\n",
        "from keras import optimizers"
      ]
    },
    {
      "cell_type": "code",
      "execution_count": null,
      "metadata": {
        "id": "yMUJcqQEdJhM"
      },
      "outputs": [],
      "source": [
        "# Unzip the data in the 'Project_data' zip folder\n",
        "\n",
        "# !unzip \"/content/gdrive/MyDrive/DL_Course_Project/Project_data.zip\"\n",
        "# !ls\n"
      ]
    },
    {
      "cell_type": "markdown",
      "metadata": {
        "id": "ZSXrXloe8Hbf"
      },
      "source": [
        "We set the random seed so that the results don't vary drastically."
      ]
    },
    {
      "cell_type": "code",
      "execution_count": null,
      "metadata": {
        "id": "yKX0umTz8Hbg"
      },
      "outputs": [],
      "source": [
        "np.random.seed(30)\n",
        "import random as rn\n",
        "rn.seed(30)\n",
        "from keras import backend as K\n",
        "import tensorflow as tf\n",
        "#tf.set_random_seed(30) this code is throwing an error: AttributeError: module 'tensorflow' has no attribute 'set_random_seed' on \n",
        "tf.random.set_seed(30)"
      ]
    },
    {
      "cell_type": "code",
      "execution_count": null,
      "metadata": {
        "colab": {
          "base_uri": "https://localhost:8080/",
          "height": 35
        },
        "id": "x5dtxAhKE2OV",
        "outputId": "f9716f98-8398-4d12-d351-ebdf9cda14b2"
      },
      "outputs": [
        {
          "data": {
            "application/vnd.google.colaboratory.intrinsic+json": {
              "type": "string"
            },
            "text/plain": [
              "'2.8.2'"
            ]
          },
          "execution_count": 4,
          "metadata": {},
          "output_type": "execute_result"
        }
      ],
      "source": [
        "tf. __version__ #prints the tensorflow version\n",
        "# This project is made with tensorflow version 2.8.2"
      ]
    },
    {
      "cell_type": "markdown",
      "metadata": {
        "id": "VcJgnmFq8Hbi"
      },
      "source": [
        "In this block, you read the folder names for training and validation. You also set the `batch_size` here. Note that you set the batch size in such a way that you are able to use the GPU in full capacity. You keep increasing the batch size until the machine throws an error."
      ]
    },
    {
      "cell_type": "code",
      "execution_count": null,
      "metadata": {
        "id": "3pWnLdW58Hbj"
      },
      "outputs": [],
      "source": [
        "train_doc = np.random.permutation(open('/content/drive/MyDrive/DL_Course_Project/Project_data/train.csv').readlines())\n",
        "val_doc = np.random.permutation(open('/content/drive/MyDrive/DL_Course_Project/Project_data/val.csv').readlines())\n",
        "batch_size = 20 "
      ]
    },
    {
      "cell_type": "code",
      "execution_count": null,
      "metadata": {
        "id": "-BEV4X7TpVAK"
      },
      "outputs": [],
      "source": [
        "# function to plot the training/validation accuracies/losses.\n",
        "\n",
        "from IPython.display import Markdown, display\n",
        "from matplotlib import pyplot as plt\n",
        "\n",
        "def plot_metrics(metrics):\n",
        "    display(Markdown(\"**Training Accuracy:** \" + str(round(metrics.history['categorical_accuracy'][num_epochs-1], 2))))\n",
        "    display(Markdown(\"**Validation Accuracy:** \" + str(round(metrics.history['val_categorical_accuracy'][num_epochs-1], 2))))\n",
        "\n",
        "    acc = metrics.history['categorical_accuracy']\n",
        "    val_acc = metrics.history['val_categorical_accuracy']\n",
        "\n",
        "    loss = metrics.history['loss']\n",
        "    val_loss = metrics.history['val_loss']\n",
        "\n",
        "    epochs_range = range(num_epochs)\n",
        "\n",
        "    plt.figure(figsize=(15, 4))\n",
        "    plt.subplot(1, 2, 1)\n",
        "    plt.plot(epochs_range, acc, label='Training Accuracy')\n",
        "    plt.plot(epochs_range, val_acc, label='Validation Accuracy')\n",
        "    plt.legend(loc='lower right')\n",
        "    plt.title('Training and Validation Accuracy')\n",
        "\n",
        "    plt.subplot(1, 2, 2)\n",
        "    plt.plot(epochs_range, loss, label='Training Loss')\n",
        "    plt.plot(epochs_range, val_loss, label='Validation Loss')\n",
        "    plt.legend(loc='upper right')\n",
        "    plt.title('Training and Validation Loss')\n",
        "    plt.show()\n"
      ]
    },
    {
      "cell_type": "markdown",
      "metadata": {
        "id": "O2B0qZdZ8Hbo"
      },
      "source": [
        "## Generator\n",
        "This is one of the most important part of the code. The overall structure of the generator has been given. In the generator, you are going to preprocess the images as you have images of 2 different dimensions as well as create a batch of video frames. You have to experiment with `img_idx`, `y`,`z` and normalization such that you get high accuracy."
      ]
    },
    {
      "cell_type": "code",
      "execution_count": null,
      "metadata": {
        "id": "wGgv9ziQlX9b"
      },
      "outputs": [],
      "source": [
        "# global declaration of input sequence properties as used for the generator.\n",
        "total_count_frames = 30\n",
        "selected_frames = 15\n",
        "image_height = 120\n",
        "image_width = 120"
      ]
    },
    {
      "cell_type": "code",
      "execution_count": null,
      "metadata": {
        "id": "Y6-dOJ1CmIyt"
      },
      "outputs": [],
      "source": [
        "# Custom code to cropping and resizing\n",
        "def image_crop_resize(image):\n",
        "    if image.shape[0] > 120 and image.shape[1] > 120:\n",
        "        image = resize(image, (120, 120))\n",
        "        \n",
        "    height = image.shape[0]\n",
        "    width = image.shape[1]\n",
        "    height_center = height//2\n",
        "    width_center = width//2\n",
        "    image = image[(height_center-60):(height_center+70), (width_center-50):(width_center+70)]\n",
        "    image = resize(image,(image_height, image_width))\n",
        "    return image"
      ]
    },
    {
      "cell_type": "code",
      "execution_count": null,
      "metadata": {
        "id": "v_icSBVt8Hbq"
      },
      "outputs": [],
      "source": [
        "def generator(source_path, folder_list, batch_size):\n",
        "    print( 'Source path = ', source_path, '; batch size =', batch_size)\n",
        "    img_idx = np.round(np.linspace(0, total_count_frames-1, selected_frames)).astype(int) #create a list of image numbers you want to use for a particular video\n",
        "    \n",
        "    \n",
        "    while True:\n",
        "        t = np.random.permutation(folder_list)\n",
        "        num_batches = len(source_path)//batch_size # calculate the number of batches\n",
        "        for batch in range(num_batches): # we iterate over the number of batches\n",
        "            batch_data = np.zeros((batch_size,selected_frames,image_height,image_width,3)) # x is the number of images you use for each video, (y,z) is the final size of the input images and 3 is the number of channels RGB\n",
        "            batch_labels = np.zeros((batch_size,5)) # batch_labels is the one hot representation of the output\n",
        "            for folder in range(batch_size): # iterate over the batch_size\n",
        "                imgs = os.listdir(source_path+'/'+ t[folder + (batch*batch_size)].split(';')[0]) # read all the images in the folder\n",
        "                for idx,item in enumerate(img_idx): #  Iterate iver the frames/images of a folder to read them in\n",
        "                    image = imread(source_path+'/'+ t[folder + (batch*batch_size)].strip().split(';')[0]+'/'+imgs[item]).astype(np.float32)\n",
        "                    \n",
        "                    #crop the images and resize them. Note that the images are of 2 different shape \n",
        "                    #and the conv3D will throw error if the inputs in a batch have different shapes             \n",
        "                    \n",
        "                    resized_image = image_crop_resize(image)\n",
        "                    \n",
        "                    batch_data[folder,idx,:,:,0] = (resized_image[:,:,0])/255 #normalise and feed in the image\n",
        "                    batch_data[folder,idx,:,:,1] = (resized_image[:,:,1])/255 #normalise and feed in the image\n",
        "                    batch_data[folder,idx,:,:,2] = (resized_image[:,:,2])/255 #normalise and feed in the image\n",
        "                    \n",
        "                batch_labels[folder, int(t[folder + (batch*batch_size)].strip().split(';')[2])] = 1\n",
        "            yield batch_data, batch_labels #you yield the batch_data and the batch_labels, remember what does yield do\n",
        "\n",
        "        \n",
        "        # write the code for the remaining data points which are left after full batches\n",
        "\n",
        "        if((len(source_path)%batch_size)//2==0):\n",
        "          internal_batch_size = 2\n",
        "        else:\n",
        "          internal_batch_size = 1\n",
        "\n",
        "        num_batches_left = len(source_path) % internal_batch_size # calculate the number of leftout batch passes\n",
        "        for batch in range(num_batches_left): # we iterate over the number of batches left\n",
        "          batch_data = np.zeros((internal_batch_size,selected_frames,image_height,image_width,3)) # x is the number of images you use for each video, (y,z) is the final size of the input images and 3 is the number of channels RGB x,y,z = 18,84,84\n",
        "          batch_labels = np.zeros((internal_batch_size,5)) # batch_labels is the one hot representation of the output\n",
        "          for folder in range(internal_batch_size): # iterate over the internal batch_size\n",
        "            imgs = os.listdir(source_path+'/'+ t[folder + (num_batches_left*internal_batch_size)].split(';')[0]) # read all the images in the folder\n",
        "            for idx,item in enumerate(img_idx):\n",
        "              image_leftout = imread(source_path+'/'+ t[folder + (num_batches_left*internal_batch_size)].strip().split(';')[0]+'/'+imgs[item]).astype(np.float32)\n",
        "                    \n",
        "                    #crop the images and resize them. Note that the images are of 2 different shape \n",
        "                    #and the conv3D will throw error if the inputs in a batch have different shapes\n",
        "                    \n",
        "              \n",
        "              leftout_resized_image = image_crop_resize(image_leftout)\n",
        "\n",
        "              batch_data[folder,idx,:,:,0] = (leftout_resized_image[:,:,0])/255 #normalise and feed in the image\n",
        "              batch_data[folder,idx,:,:,1] = (leftout_resized_image[:,:,1])/255 #normalise and feed in the image\n",
        "              batch_data[folder,idx,:,:,2] = (leftout_resized_image[:,:,2])/255 #normalise and feed in the image\n",
        "                    \n",
        "            batch_labels[folder, int(t[folder + (batch*internal_batch_size)].strip().split(';')[2])] = 1 \n",
        "          yield batch_data, batch_labels #you yield the batch_data and the batch_labels, remember what does yield do\n",
        "\n",
        "\n"
      ]
    },
    {
      "cell_type": "markdown",
      "metadata": {
        "id": "BxxprEGz8Hbu"
      },
      "source": [
        "Note here that a video is represented above in the generator as (number of images, height, width, number of channels). Take this into consideration while creating the model architecture.\n",
        "\n",
        "Why are we using datetime?\n",
        "\n",
        "Because we will be creating multiple models and we dont wish to overwrite a new model over the older one. Therefore, saving it along with the timestamp helps."
      ]
    },
    {
      "cell_type": "code",
      "execution_count": null,
      "metadata": {
        "colab": {
          "base_uri": "https://localhost:8080/"
        },
        "id": "XPnH8mOn8Hbw",
        "outputId": "7c7e7dc8-eefc-43bb-a1d6-be92eb1fdb12"
      },
      "outputs": [
        {
          "name": "stdout",
          "output_type": "stream",
          "text": [
            "# training sequences = 663\n",
            "# validation sequences = 100\n",
            "# epochs = 30\n"
          ]
        }
      ],
      "source": [
        "curr_dt_time = datetime.datetime.now()\n",
        "train_path = '/content/drive/MyDrive/DL_Course_Project/Project_data/train'\n",
        "val_path = '/content/drive/MyDrive/DL_Course_Project/Project_data/val'\n",
        "num_train_sequences = len(train_doc)\n",
        "print('# training sequences =', num_train_sequences)\n",
        "num_val_sequences = len(val_doc)\n",
        "print('# validation sequences =', num_val_sequences)\n",
        "num_epochs = 30 # choose the number of epochs\n",
        "print ('# epochs =', num_epochs)"
      ]
    },
    {
      "cell_type": "markdown",
      "metadata": {
        "id": "ta5kWBNv8Hby"
      },
      "source": [
        "## Conv3D\n",
        "Here you make the model using different functionalities that Keras provides. Remember to use `Conv3D` and `MaxPooling3D` and not `Conv2D` and `Maxpooling2D` for a 3D convolution model. You would want to use `TimeDistributed` while building a Conv2D + RNN model. Also remember that the last layer is the softmax. Design the network in such a way that the model is able to give good accuracy on the least number of parameters so that it can fit in the memory of the webcam."
      ]
    },
    {
      "cell_type": "markdown",
      "metadata": {
        "id": "R59oq9fpev_M"
      },
      "source": [
        "#### Initial Model"
      ]
    },
    {
      "cell_type": "code",
      "execution_count": null,
      "metadata": {
        "id": "5iVIwMZ6iTeu"
      },
      "outputs": [],
      "source": [
        "# model_1 = Sequential()\n",
        "\n",
        "# model_1.add(Conv3D(64,3, activation='elu', padding='same', input_shape=(10,120,120,3)))\n",
        "\n",
        "# model_1.add(BatchNormalization(axis=-1))\n",
        "# model_1.add(MaxPooling3D(pool_size=(2,2,2)))\n",
        "\n",
        "# model_1.add(Conv3D(64,3,activation='elu',padding='same'))\n",
        "# model_1.add(BatchNormalization(axis=-1))\n",
        "# model_1.add(MaxPooling3D(pool_size=(2,2,2)))\n",
        "\n",
        "# model_1.add(Conv3D(128,(3,3,3),activation='elu',padding='same'))\n",
        "# model_1.add(BatchNormalization())\n",
        "# model_1.add(MaxPooling3D(pool_size=(2,2,1)))\n",
        "# model_1.add(Dropout(0.25))\n",
        "\n",
        "# model_1.add(GlobalAveragePooling3D())\n",
        "# model_1.add(Dropout(0.25))\n",
        "# model_1.add(Dense(512, activation ='elu'))\n",
        "# model_1.add(BatchNormalization())\n",
        "# model_1.add(Dense(256, activation ='elu'))\n",
        "# model_1.add(BatchNormalization())\n",
        "# model_1.add(Dense(5,activation='softmax'))"
      ]
    },
    {
      "cell_type": "markdown",
      "metadata": {
        "id": "GlHnlsglewIt"
      },
      "source": [
        "#### Initial Model Summary"
      ]
    },
    {
      "cell_type": "code",
      "execution_count": null,
      "metadata": {
        "colab": {
          "base_uri": "https://localhost:8080/"
        },
        "id": "Rev30yCxidwu",
        "outputId": "9e9b0a97-cec9-4781-cdfc-3c03df8a9052",
        "scrolled": false
      },
      "outputs": [
        {
          "name": "stdout",
          "output_type": "stream",
          "text": [
            "Model: \"sequential\"\n",
            "_________________________________________________________________\n",
            " Layer (type)                Output Shape              Param #   \n",
            "=================================================================\n",
            " conv3d (Conv3D)             (None, 10, 120, 120, 64)  5248      \n",
            "                                                                 \n",
            " batch_normalization (BatchN  (None, 10, 120, 120, 64)  256      \n",
            " ormalization)                                                   \n",
            "                                                                 \n",
            " max_pooling3d (MaxPooling3D  (None, 5, 60, 60, 64)    0         \n",
            " )                                                               \n",
            "                                                                 \n",
            " conv3d_1 (Conv3D)           (None, 5, 60, 60, 64)     110656    \n",
            "                                                                 \n",
            " batch_normalization_1 (Batc  (None, 5, 60, 60, 64)    256       \n",
            " hNormalization)                                                 \n",
            "                                                                 \n",
            " max_pooling3d_1 (MaxPooling  (None, 2, 30, 30, 64)    0         \n",
            " 3D)                                                             \n",
            "                                                                 \n",
            " conv3d_2 (Conv3D)           (None, 2, 30, 30, 128)    221312    \n",
            "                                                                 \n",
            " batch_normalization_2 (Batc  (None, 2, 30, 30, 128)   512       \n",
            " hNormalization)                                                 \n",
            "                                                                 \n",
            " max_pooling3d_2 (MaxPooling  (None, 1, 15, 30, 128)   0         \n",
            " 3D)                                                             \n",
            "                                                                 \n",
            " dropout (Dropout)           (None, 1, 15, 30, 128)    0         \n",
            "                                                                 \n",
            " global_average_pooling3d (G  (None, 128)              0         \n",
            " lobalAveragePooling3D)                                          \n",
            "                                                                 \n",
            " dropout_1 (Dropout)         (None, 128)               0         \n",
            "                                                                 \n",
            " dense (Dense)               (None, 512)               66048     \n",
            "                                                                 \n",
            " batch_normalization_3 (Batc  (None, 512)              2048      \n",
            " hNormalization)                                                 \n",
            "                                                                 \n",
            " dense_1 (Dense)             (None, 256)               131328    \n",
            "                                                                 \n",
            " batch_normalization_4 (Batc  (None, 256)              1024      \n",
            " hNormalization)                                                 \n",
            "                                                                 \n",
            " dense_2 (Dense)             (None, 5)                 1285      \n",
            "                                                                 \n",
            "=================================================================\n",
            "Total params: 539,973\n",
            "Trainable params: 537,925\n",
            "Non-trainable params: 2,048\n",
            "_________________________________________________________________\n",
            "None\n"
          ]
        },
        {
          "name": "stderr",
          "output_type": "stream",
          "text": [
            "/usr/local/lib/python3.7/dist-packages/keras/optimizer_v2/gradient_descent.py:102: UserWarning: The `lr` argument is deprecated, use `learning_rate` instead.\n",
            "  super(SGD, self).__init__(name, **kwargs)\n"
          ]
        }
      ],
      "source": [
        "# optimiser = tf.keras.optimizers.SGD(lr=0.001, decay=1e-6, momentum=0.7, nesterov=True) #write your optimizer\n",
        "# model_1.compile(optimizer=optimiser, loss='categorical_crossentropy', metrics=['categorical_accuracy'])\n",
        "# print (model_1.summary())"
      ]
    },
    {
      "cell_type": "markdown",
      "metadata": {
        "id": "siDw1OvcewR0"
      },
      "source": [
        "#### Second Model"
      ]
    },
    {
      "cell_type": "code",
      "execution_count": null,
      "metadata": {
        "id": "Ntk5iA9h1hvV"
      },
      "outputs": [],
      "source": [
        "# model_1 = Sequential()\n",
        "\n",
        "# model_1.add(Conv3D(64,3, activation='elu', padding='same', input_shape=(18,84,84,3)))\n",
        "\n",
        "# #axis =-1 identifies the channel axis on which normalization should not be done, since ours is channel_last so setting it to -1.\n",
        "# model_1.add(BatchNormalization(axis = -1))\n",
        "# model_1.add(MaxPooling3D(pool_size=(2,2,2)))\n",
        "\n",
        "# model_1.add(Conv3D(64,3,activation='elu',padding='same'))\n",
        "# model_1.add(BatchNormalization(axis = -1))\n",
        "# model_1.add(MaxPooling3D(pool_size=(2,2,2)))\n",
        "\n",
        "# model_1.add(Conv3D(128,(3,3,3),activation='elu',padding='same'))\n",
        "# model_1.add(BatchNormalization(axis = -1))\n",
        "# model_1.add(MaxPooling3D(pool_size=(2,2,1)))\n",
        "# model_1.add(Dropout(0.25))\n",
        "\n",
        "# model_1.add(GlobalAveragePooling3D())\n",
        "# model_1.add(Dropout(0.25))\n",
        "# model_1.add(Dense(512, activation ='elu'))\n",
        "# model_1.add(BatchNormalization(axis = -1))\n",
        "# model_1.add(Dense(256, activation ='elu'))\n",
        "# model_1.add(BatchNormalization(axis = -1))\n",
        "# model_1.add(Dense(5,activation='softmax'))"
      ]
    },
    {
      "cell_type": "markdown",
      "metadata": {
        "id": "hAoApUiyjrNp"
      },
      "source": [
        "#### Second Model Summary"
      ]
    },
    {
      "cell_type": "code",
      "execution_count": null,
      "metadata": {
        "colab": {
          "base_uri": "https://localhost:8080/"
        },
        "id": "FwJml3vfjxjq",
        "outputId": "a942a4ea-d4bb-4464-fb68-4c1bac69d541",
        "scrolled": false
      },
      "outputs": [
        {
          "name": "stdout",
          "output_type": "stream",
          "text": [
            "Model: \"sequential_2\"\n",
            "_________________________________________________________________\n",
            " Layer (type)                Output Shape              Param #   \n",
            "=================================================================\n",
            " conv3d_6 (Conv3D)           (None, 18, 84, 84, 64)    5248      \n",
            "                                                                 \n",
            " batch_normalization_10 (Bat  (None, 18, 84, 84, 64)   256       \n",
            " chNormalization)                                                \n",
            "                                                                 \n",
            " max_pooling3d_6 (MaxPooling  (None, 9, 42, 42, 64)    0         \n",
            " 3D)                                                             \n",
            "                                                                 \n",
            " conv3d_7 (Conv3D)           (None, 9, 42, 42, 64)     110656    \n",
            "                                                                 \n",
            " batch_normalization_11 (Bat  (None, 9, 42, 42, 64)    256       \n",
            " chNormalization)                                                \n",
            "                                                                 \n",
            " max_pooling3d_7 (MaxPooling  (None, 4, 21, 21, 64)    0         \n",
            " 3D)                                                             \n",
            "                                                                 \n",
            " conv3d_8 (Conv3D)           (None, 4, 21, 21, 128)    221312    \n",
            "                                                                 \n",
            " batch_normalization_12 (Bat  (None, 4, 21, 21, 128)   512       \n",
            " chNormalization)                                                \n",
            "                                                                 \n",
            " max_pooling3d_8 (MaxPooling  (None, 2, 10, 21, 128)   0         \n",
            " 3D)                                                             \n",
            "                                                                 \n",
            " dropout_4 (Dropout)         (None, 2, 10, 21, 128)    0         \n",
            "                                                                 \n",
            " global_average_pooling3d_2   (None, 128)              0         \n",
            " (GlobalAveragePooling3D)                                        \n",
            "                                                                 \n",
            " dropout_5 (Dropout)         (None, 128)               0         \n",
            "                                                                 \n",
            " dense_6 (Dense)             (None, 512)               66048     \n",
            "                                                                 \n",
            " batch_normalization_13 (Bat  (None, 512)              2048      \n",
            " chNormalization)                                                \n",
            "                                                                 \n",
            " dense_7 (Dense)             (None, 256)               131328    \n",
            "                                                                 \n",
            " batch_normalization_14 (Bat  (None, 256)              1024      \n",
            " chNormalization)                                                \n",
            "                                                                 \n",
            " dense_8 (Dense)             (None, 5)                 1285      \n",
            "                                                                 \n",
            "=================================================================\n",
            "Total params: 539,973\n",
            "Trainable params: 537,925\n",
            "Non-trainable params: 2,048\n",
            "_________________________________________________________________\n",
            "None\n"
          ]
        }
      ],
      "source": [
        "# optimiser = tf.keras.optimizers.SGD(learning_rate=0.001, decay=1e-6, momentum=0.5, nesterov=True) #write your optimizer\n",
        "# model_1.compile(optimizer=optimiser, loss='categorical_crossentropy', metrics=['categorical_accuracy'])\n",
        "# print (model_1.summary())"
      ]
    },
    {
      "cell_type": "markdown",
      "metadata": {
        "id": "kanzmqKajiDy"
      },
      "source": [
        "#### Final Model"
      ]
    },
    {
      "cell_type": "code",
      "source": [
        "model_1 = Sequential()\n",
        "\n",
        "model_1.add(Conv3D(32,3, use_bias=False, padding=\"same\", input_shape=(selected_frames,image_height,image_width,3)))\n",
        "model_1.add(LayerNormalization())\n",
        "model_1.add(Activation('relu'))\n",
        "model_1.add(MaxPooling3D(3,strides=2, padding=\"same\"))\n",
        "\n",
        "model_1.add(Conv3D(64,3, use_bias=False, padding=\"same\"))\n",
        "model_1.add(LayerNormalization())\n",
        "model_1.add(Activation('relu'))\n",
        "model_1.add(MaxPooling3D(3,strides=2, padding=\"same\"))\n",
        "\n",
        "model_1.add(Conv3D(128,3, use_bias=False, padding=\"same\"))\n",
        "model_1.add(LayerNormalization())\n",
        "model_1.add(Activation('relu'))\n",
        "model_1.add(MaxPooling3D(3,strides=2, padding=\"same\"))\n",
        "\n",
        "model_1.add(Conv3D(256,3, use_bias=False, padding=\"same\"))\n",
        "model_1.add(LayerNormalization())\n",
        "model_1.add(Activation('relu'))\n",
        "model_1.add(MaxPooling3D(3,strides=2, padding=\"same\"))\n",
        "\n",
        "model_1.add(GlobalAveragePooling3D())\n",
        "model_1.add(Dense(512))\n",
        "model_1.add(LayerNormalization())\n",
        "model_1.add(Activation('relu'))\n",
        "model_1.add(Dense(5, activation ='softmax'))"
      ],
      "metadata": {
        "id": "ePWw-8lTwNja"
      },
      "execution_count": null,
      "outputs": []
    },
    {
      "cell_type": "markdown",
      "metadata": {
        "id": "aVuEjv0YqGJL"
      },
      "source": [
        "#### Final Model Summary"
      ]
    },
    {
      "cell_type": "code",
      "execution_count": null,
      "metadata": {
        "scrolled": true,
        "colab": {
          "base_uri": "https://localhost:8080/"
        },
        "outputId": "8da96d8d-ac2b-402f-93e4-e0ceb6fc9f2f",
        "id": "kEmsayRKBBZY"
      },
      "outputs": [
        {
          "output_type": "stream",
          "name": "stdout",
          "text": [
            "Model: \"sequential\"\n",
            "_________________________________________________________________\n",
            " Layer (type)                Output Shape              Param #   \n",
            "=================================================================\n",
            " conv3d (Conv3D)             (None, 15, 120, 120, 32)  2592      \n",
            "                                                                 \n",
            " layer_normalization (LayerN  (None, 15, 120, 120, 32)  64       \n",
            " ormalization)                                                   \n",
            "                                                                 \n",
            " activation (Activation)     (None, 15, 120, 120, 32)  0         \n",
            "                                                                 \n",
            " max_pooling3d (MaxPooling3D  (None, 8, 60, 60, 32)    0         \n",
            " )                                                               \n",
            "                                                                 \n",
            " conv3d_1 (Conv3D)           (None, 8, 60, 60, 64)     55296     \n",
            "                                                                 \n",
            " layer_normalization_1 (Laye  (None, 8, 60, 60, 64)    128       \n",
            " rNormalization)                                                 \n",
            "                                                                 \n",
            " activation_1 (Activation)   (None, 8, 60, 60, 64)     0         \n",
            "                                                                 \n",
            " max_pooling3d_1 (MaxPooling  (None, 4, 30, 30, 64)    0         \n",
            " 3D)                                                             \n",
            "                                                                 \n",
            " conv3d_2 (Conv3D)           (None, 4, 30, 30, 128)    221184    \n",
            "                                                                 \n",
            " layer_normalization_2 (Laye  (None, 4, 30, 30, 128)   256       \n",
            " rNormalization)                                                 \n",
            "                                                                 \n",
            " activation_2 (Activation)   (None, 4, 30, 30, 128)    0         \n",
            "                                                                 \n",
            " max_pooling3d_2 (MaxPooling  (None, 2, 15, 15, 128)   0         \n",
            " 3D)                                                             \n",
            "                                                                 \n",
            " conv3d_3 (Conv3D)           (None, 2, 15, 15, 256)    884736    \n",
            "                                                                 \n",
            " layer_normalization_3 (Laye  (None, 2, 15, 15, 256)   512       \n",
            " rNormalization)                                                 \n",
            "                                                                 \n",
            " activation_3 (Activation)   (None, 2, 15, 15, 256)    0         \n",
            "                                                                 \n",
            " max_pooling3d_3 (MaxPooling  (None, 1, 8, 8, 256)     0         \n",
            " 3D)                                                             \n",
            "                                                                 \n",
            " global_average_pooling3d (G  (None, 256)              0         \n",
            " lobalAveragePooling3D)                                          \n",
            "                                                                 \n",
            " dense (Dense)               (None, 512)               131584    \n",
            "                                                                 \n",
            " layer_normalization_4 (Laye  (None, 512)              1024      \n",
            " rNormalization)                                                 \n",
            "                                                                 \n",
            " activation_4 (Activation)   (None, 512)               0         \n",
            "                                                                 \n",
            " dense_1 (Dense)             (None, 5)                 2565      \n",
            "                                                                 \n",
            "=================================================================\n",
            "Total params: 1,299,941\n",
            "Trainable params: 1,299,941\n",
            "Non-trainable params: 0\n",
            "_________________________________________________________________\n",
            "None\n"
          ]
        }
      ],
      "source": [
        "optimiser = tf.keras.optimizers.Adam() #write your optimizer\n",
        "model_1.compile(optimizer=optimiser, loss='categorical_crossentropy', metrics=['categorical_accuracy'])\n",
        "print (model_1.summary())"
      ]
    },
    {
      "cell_type": "markdown",
      "metadata": {
        "id": "H__f5L5A8Hb4"
      },
      "source": [
        "Let us create the `train_generator` and the `val_generator` which will be used in `.fit_generator`."
      ]
    },
    {
      "cell_type": "code",
      "execution_count": null,
      "metadata": {
        "id": "LImefwI98Hb4"
      },
      "outputs": [],
      "source": [
        "train_generator = generator(train_path, train_doc, batch_size)\n",
        "val_generator = generator(val_path, val_doc, batch_size)"
      ]
    },
    {
      "cell_type": "code",
      "execution_count": null,
      "metadata": {
        "colab": {
          "base_uri": "https://localhost:8080/"
        },
        "id": "Mn-no28G8Hb6",
        "outputId": "297a00a6-87b3-4055-ab70-e953855c1e1a"
      },
      "outputs": [
        {
          "name": "stderr",
          "output_type": "stream",
          "text": [
            "WARNING:tensorflow:`period` argument is deprecated. Please use `save_freq` to specify the frequency in number of batches seen.\n",
            "WARNING:tensorflow:`epsilon` argument is deprecated and will be removed, use `min_delta` instead.\n"
          ]
        }
      ],
      "source": [
        "model_name = 'model_init' + '_' + str(curr_dt_time).replace(' ','').replace(':','_') + '/'\n",
        "    \n",
        "if not os.path.exists(model_name):\n",
        "    os.mkdir(model_name)\n",
        "        \n",
        "filepath = model_name + 'model-{epoch:05d}-{loss:.5f}-{categorical_accuracy:.5f}-{val_loss:.5f}-{val_categorical_accuracy:.5f}.h5'\n",
        "\n",
        "checkpoint = ModelCheckpoint(filepath, monitor='val_loss', verbose=1, save_best_only=False, save_weights_only=False, mode='auto', period=1)\n",
        "\n",
        "LR = ReduceLROnPlateau(monitor='val_loss', factor=0.5, patience=2, verbose=1,\n",
        "                      mode=\"min\", epsilon=0.0001,\n",
        "                      cooldown=0, min_lr=0.00001) # write the REducelronplateau code here\n",
        "callbacks_list = [checkpoint, LR]"
      ]
    },
    {
      "cell_type": "markdown",
      "metadata": {
        "id": "kEwlvpM-8Hb7"
      },
      "source": [
        "The `steps_per_epoch` and `validation_steps` are used by `fit_generator` to decide the number of next() calls it need to make."
      ]
    },
    {
      "cell_type": "code",
      "execution_count": null,
      "metadata": {
        "id": "9cx1AAht8Hb8"
      },
      "outputs": [],
      "source": [
        "if (num_train_sequences%batch_size) == 0:\n",
        "    steps_per_epoch = int(num_train_sequences/batch_size)\n",
        "else:\n",
        "    steps_per_epoch = (num_train_sequences//batch_size) + 1\n",
        "\n",
        "if (num_val_sequences%batch_size) == 0:\n",
        "    validation_steps = int(num_val_sequences/batch_size)\n",
        "else:\n",
        "    validation_steps = (num_val_sequences//batch_size) + 1"
      ]
    },
    {
      "cell_type": "markdown",
      "metadata": {
        "id": "dv2rveSf8Hb9"
      },
      "source": [
        "Let us now fit the model. This will start training the model and with the help of the checkpoints, you'll be able to save the model at the end of each epoch."
      ]
    },
    {
      "cell_type": "markdown",
      "metadata": {
        "id": "sR_ZmA5vhNt0"
      },
      "source": [
        "#### Initial Conv3D model run result"
      ]
    },
    {
      "cell_type": "code",
      "execution_count": null,
      "metadata": {
        "colab": {
          "base_uri": "https://localhost:8080/"
        },
        "id": "XRai5X3wi5NA",
        "outputId": "ec87f8e5-2dea-4bc2-a307-1df48dca07a9"
      },
      "outputs": [
        {
          "name": "stderr",
          "output_type": "stream",
          "text": [
            "/usr/local/lib/python3.7/dist-packages/ipykernel_launcher.py:3: UserWarning: `Model.fit_generator` is deprecated and will be removed in a future version. Please use `Model.fit`, which supports generators.\n",
            "  This is separate from the ipykernel package so we can avoid doing imports until\n"
          ]
        },
        {
          "name": "stdout",
          "output_type": "stream",
          "text": [
            "Source path =  /content/drive/MyDrive/DL_Course_Project/Project_data/train ; batch size = 25\n",
            "Epoch 1/15\n",
            "27/27 [==============================] - ETA: 0s - loss: 1.6533 - categorical_accuracy: 0.3852  Source path =  /content/drive/MyDrive/DL_Course_Project/Project_data/val ; batch size = 25\n",
            "\n",
            "Epoch 1: saving model to model_init_2022-08-1110_34_12.862148/model-00001-1.65331-0.38519-1.61695-0.25000.h5\n",
            "27/27 [==============================] - 3312s 127s/step - loss: 1.6533 - categorical_accuracy: 0.3852 - val_loss: 1.6170 - val_categorical_accuracy: 0.2500 - lr: 0.0010\n",
            "Epoch 2/15\n",
            "27/27 [==============================] - ETA: 0s - loss: 1.2620 - categorical_accuracy: 0.4770 \n",
            "Epoch 2: saving model to model_init_2022-08-1110_34_12.862148/model-00002-1.26199-0.47704-1.79808-0.27000.h5\n",
            "27/27 [==============================] - 1238s 48s/step - loss: 1.2620 - categorical_accuracy: 0.4770 - val_loss: 1.7981 - val_categorical_accuracy: 0.2700 - lr: 0.0010\n",
            "Epoch 3/15\n",
            "27/27 [==============================] - ETA: 0s - loss: 1.1559 - categorical_accuracy: 0.5259 \n",
            "Epoch 3: saving model to model_init_2022-08-1110_34_12.862148/model-00003-1.15589-0.52593-2.15648-0.20000.h5\n",
            "\n",
            "Epoch 3: ReduceLROnPlateau reducing learning rate to 0.0005000000237487257.\n",
            "27/27 [==============================] - 437s 17s/step - loss: 1.1559 - categorical_accuracy: 0.5259 - val_loss: 2.1565 - val_categorical_accuracy: 0.2000 - lr: 0.0010\n",
            "Epoch 4/15\n",
            "27/27 [==============================] - ETA: 0s - loss: 1.0165 - categorical_accuracy: 0.6000\n",
            "Epoch 4: saving model to model_init_2022-08-1110_34_12.862148/model-00004-1.01646-0.60000-2.40554-0.25000.h5\n",
            "27/27 [==============================] - 184s 7s/step - loss: 1.0165 - categorical_accuracy: 0.6000 - val_loss: 2.4055 - val_categorical_accuracy: 0.2500 - lr: 5.0000e-04\n",
            "Epoch 5/15\n",
            "27/27 [==============================] - ETA: 0s - loss: 0.9484 - categorical_accuracy: 0.6385\n",
            "Epoch 5: saving model to model_init_2022-08-1110_34_12.862148/model-00005-0.94843-0.63852-2.98376-0.24000.h5\n",
            "\n",
            "Epoch 5: ReduceLROnPlateau reducing learning rate to 0.0002500000118743628.\n",
            "27/27 [==============================] - 114s 4s/step - loss: 0.9484 - categorical_accuracy: 0.6385 - val_loss: 2.9838 - val_categorical_accuracy: 0.2400 - lr: 5.0000e-04\n",
            "Epoch 6/15\n",
            "27/27 [==============================] - ETA: 0s - loss: 0.9186 - categorical_accuracy: 0.6059\n",
            "Epoch 6: saving model to model_init_2022-08-1110_34_12.862148/model-00006-0.91860-0.60593-3.26574-0.24000.h5\n",
            "27/27 [==============================] - 107s 4s/step - loss: 0.9186 - categorical_accuracy: 0.6059 - val_loss: 3.2657 - val_categorical_accuracy: 0.2400 - lr: 2.5000e-04\n",
            "Epoch 7/15\n",
            "27/27 [==============================] - ETA: 0s - loss: 0.9352 - categorical_accuracy: 0.5970\n",
            "Epoch 7: saving model to model_init_2022-08-1110_34_12.862148/model-00007-0.93518-0.59704-3.80693-0.24000.h5\n",
            "\n",
            "Epoch 7: ReduceLROnPlateau reducing learning rate to 0.0001250000059371814.\n",
            "27/27 [==============================] - 93s 4s/step - loss: 0.9352 - categorical_accuracy: 0.5970 - val_loss: 3.8069 - val_categorical_accuracy: 0.2400 - lr: 2.5000e-04\n",
            "Epoch 8/15\n",
            "27/27 [==============================] - ETA: 0s - loss: 0.8602 - categorical_accuracy: 0.6519\n",
            "Epoch 8: saving model to model_init_2022-08-1110_34_12.862148/model-00008-0.86023-0.65185-3.87551-0.22000.h5\n",
            "27/27 [==============================] - 94s 4s/step - loss: 0.8602 - categorical_accuracy: 0.6519 - val_loss: 3.8755 - val_categorical_accuracy: 0.2200 - lr: 1.2500e-04\n",
            "Epoch 9/15\n",
            "27/27 [==============================] - ETA: 0s - loss: 0.8813 - categorical_accuracy: 0.6281\n",
            "Epoch 9: saving model to model_init_2022-08-1110_34_12.862148/model-00009-0.88132-0.62815-4.11700-0.21000.h5\n",
            "\n",
            "Epoch 9: ReduceLROnPlateau reducing learning rate to 6.25000029685907e-05.\n",
            "27/27 [==============================] - 95s 4s/step - loss: 0.8813 - categorical_accuracy: 0.6281 - val_loss: 4.1170 - val_categorical_accuracy: 0.2100 - lr: 1.2500e-04\n",
            "Epoch 10/15\n",
            "27/27 [==============================] - ETA: 0s - loss: 0.8954 - categorical_accuracy: 0.6267\n",
            "Epoch 10: saving model to model_init_2022-08-1110_34_12.862148/model-00010-0.89542-0.62667-4.28496-0.22000.h5\n",
            "27/27 [==============================] - 93s 4s/step - loss: 0.8954 - categorical_accuracy: 0.6267 - val_loss: 4.2850 - val_categorical_accuracy: 0.2200 - lr: 6.2500e-05\n",
            "Epoch 11/15\n",
            "27/27 [==============================] - ETA: 0s - loss: 0.9162 - categorical_accuracy: 0.6252\n",
            "Epoch 11: saving model to model_init_2022-08-1110_34_12.862148/model-00011-0.91623-0.62519-4.43427-0.23000.h5\n",
            "\n",
            "Epoch 11: ReduceLROnPlateau reducing learning rate to 3.125000148429535e-05.\n",
            "27/27 [==============================] - 92s 4s/step - loss: 0.9162 - categorical_accuracy: 0.6252 - val_loss: 4.4343 - val_categorical_accuracy: 0.2300 - lr: 6.2500e-05\n",
            "Epoch 12/15\n",
            "27/27 [==============================] - ETA: 0s - loss: 0.8866 - categorical_accuracy: 0.6370\n",
            "Epoch 12: saving model to model_init_2022-08-1110_34_12.862148/model-00012-0.88657-0.63704-4.47376-0.22000.h5\n",
            "27/27 [==============================] - 93s 4s/step - loss: 0.8866 - categorical_accuracy: 0.6370 - val_loss: 4.4738 - val_categorical_accuracy: 0.2200 - lr: 3.1250e-05\n",
            "Epoch 13/15\n",
            "27/27 [==============================] - ETA: 0s - loss: 0.9192 - categorical_accuracy: 0.6400\n",
            "Epoch 13: saving model to model_init_2022-08-1110_34_12.862148/model-00013-0.91921-0.64000-4.19039-0.26000.h5\n",
            "\n",
            "Epoch 13: ReduceLROnPlateau reducing learning rate to 1.5625000742147677e-05.\n",
            "27/27 [==============================] - 92s 4s/step - loss: 0.9192 - categorical_accuracy: 0.6400 - val_loss: 4.1904 - val_categorical_accuracy: 0.2600 - lr: 3.1250e-05\n",
            "Epoch 14/15\n",
            "27/27 [==============================] - ETA: 0s - loss: 0.8663 - categorical_accuracy: 0.6622\n",
            "Epoch 14: saving model to model_init_2022-08-1110_34_12.862148/model-00014-0.86627-0.66222-4.16968-0.20000.h5\n",
            "27/27 [==============================] - 93s 4s/step - loss: 0.8663 - categorical_accuracy: 0.6622 - val_loss: 4.1697 - val_categorical_accuracy: 0.2000 - lr: 1.5625e-05\n",
            "Epoch 15/15\n",
            "27/27 [==============================] - ETA: 0s - loss: 0.8445 - categorical_accuracy: 0.6459\n",
            "Epoch 15: saving model to model_init_2022-08-1110_34_12.862148/model-00015-0.84447-0.64593-4.10708-0.22000.h5\n",
            "\n",
            "Epoch 15: ReduceLROnPlateau reducing learning rate to 1e-05.\n",
            "27/27 [==============================] - 96s 4s/step - loss: 0.8445 - categorical_accuracy: 0.6459 - val_loss: 4.1071 - val_categorical_accuracy: 0.2200 - lr: 1.5625e-05\n"
          ]
        },
        {
          "data": {
            "text/plain": [
              "<keras.callbacks.History at 0x7f2df01aca10>"
            ]
          },
          "execution_count": 18,
          "metadata": {},
          "output_type": "execute_result"
        }
      ],
      "source": [
        "# model_1.fit_generator(train_generator, steps_per_epoch=steps_per_epoch, epochs=num_epochs, verbose=1, \n",
        "#                     callbacks=callbacks_list, validation_data=val_generator, \n",
        "#                     validation_steps=validation_steps, class_weight=None, workers=1, initial_epoch=0)"
      ]
    },
    {
      "cell_type": "markdown",
      "metadata": {
        "id": "VgXmHMChhNCC"
      },
      "source": [
        "#### Second Model Output"
      ]
    },
    {
      "cell_type": "code",
      "execution_count": null,
      "metadata": {
        "colab": {
          "base_uri": "https://localhost:8080/"
        },
        "id": "xD55qQlZj-uz",
        "outputId": "0903c933-854a-43e0-de13-1794471838b9",
        "scrolled": false
      },
      "outputs": [
        {
          "name": "stdout",
          "output_type": "stream",
          "text": [
            "Source path =  /content/drive/MyDrive/DL_Course_Project/Project_data/train ; batch size = 15\n"
          ]
        },
        {
          "name": "stderr",
          "output_type": "stream",
          "text": [
            "/usr/local/lib/python3.7/dist-packages/ipykernel_launcher.py:3: UserWarning: `Model.fit_generator` is deprecated and will be removed in a future version. Please use `Model.fit`, which supports generators.\n",
            "  This is separate from the ipykernel package so we can avoid doing imports until\n"
          ]
        },
        {
          "name": "stdout",
          "output_type": "stream",
          "text": [
            "Epoch 1/30\n",
            "45/45 [==============================] - ETA: 0s - loss: 1.6644 - categorical_accuracy: 0.3511 Source path =  /content/drive/MyDrive/DL_Course_Project/Project_data/val ; batch size = 15\n",
            "\n",
            "Epoch 1: saving model to model_init_2022-08-1212_27_53.626149/model-00001-1.66437-0.35111-1.67875-0.17143.h5\n",
            "45/45 [==============================] - 3062s 69s/step - loss: 1.6644 - categorical_accuracy: 0.3511 - val_loss: 1.6787 - val_categorical_accuracy: 0.1714 - lr: 0.0010\n",
            "Epoch 2/30\n",
            "45/45 [==============================] - ETA: 0s - loss: 1.2583 - categorical_accuracy: 0.4667 \n",
            "Epoch 2: saving model to model_init_2022-08-1212_27_53.626149/model-00002-1.25832-0.46667-2.22032-0.12381.h5\n",
            "45/45 [==============================] - 1234s 28s/step - loss: 1.2583 - categorical_accuracy: 0.4667 - val_loss: 2.2203 - val_categorical_accuracy: 0.1238 - lr: 0.0010\n",
            "Epoch 3/30\n",
            "45/45 [==============================] - ETA: 0s - loss: 1.2464 - categorical_accuracy: 0.4859\n",
            "Epoch 3: saving model to model_init_2022-08-1212_27_53.626149/model-00003-1.24642-0.48593-2.91105-0.20952.h5\n",
            "\n",
            "Epoch 3: ReduceLROnPlateau reducing learning rate to 0.0005000000237487257.\n",
            "45/45 [==============================] - 423s 10s/step - loss: 1.2464 - categorical_accuracy: 0.4859 - val_loss: 2.9111 - val_categorical_accuracy: 0.2095 - lr: 0.0010\n",
            "Epoch 4/30\n",
            "45/45 [==============================] - ETA: 0s - loss: 1.1423 - categorical_accuracy: 0.5348\n",
            "Epoch 4: saving model to model_init_2022-08-1212_27_53.626149/model-00004-1.14227-0.53481-3.71570-0.19048.h5\n",
            "45/45 [==============================] - 185s 4s/step - loss: 1.1423 - categorical_accuracy: 0.5348 - val_loss: 3.7157 - val_categorical_accuracy: 0.1905 - lr: 5.0000e-04\n",
            "Epoch 5/30\n",
            "45/45 [==============================] - ETA: 0s - loss: 1.1310 - categorical_accuracy: 0.5200\n",
            "Epoch 5: saving model to model_init_2022-08-1212_27_53.626149/model-00005-1.13098-0.52000-4.19547-0.16190.h5\n",
            "\n",
            "Epoch 5: ReduceLROnPlateau reducing learning rate to 0.0002500000118743628.\n",
            "45/45 [==============================] - 135s 3s/step - loss: 1.1310 - categorical_accuracy: 0.5200 - val_loss: 4.1955 - val_categorical_accuracy: 0.1619 - lr: 5.0000e-04\n",
            "Epoch 6/30\n",
            "45/45 [==============================] - ETA: 0s - loss: 1.0005 - categorical_accuracy: 0.5941\n",
            "Epoch 6: saving model to model_init_2022-08-1212_27_53.626149/model-00006-1.00046-0.59407-4.01495-0.22857.h5\n",
            "45/45 [==============================] - 127s 3s/step - loss: 1.0005 - categorical_accuracy: 0.5941 - val_loss: 4.0150 - val_categorical_accuracy: 0.2286 - lr: 2.5000e-04\n",
            "Epoch 7/30\n",
            "45/45 [==============================] - ETA: 0s - loss: 0.9467 - categorical_accuracy: 0.6015\n",
            "Epoch 7: saving model to model_init_2022-08-1212_27_53.626149/model-00007-0.94672-0.60148-4.31891-0.19048.h5\n",
            "\n",
            "Epoch 7: ReduceLROnPlateau reducing learning rate to 0.0001250000059371814.\n",
            "45/45 [==============================] - 119s 3s/step - loss: 0.9467 - categorical_accuracy: 0.6015 - val_loss: 4.3189 - val_categorical_accuracy: 0.1905 - lr: 2.5000e-04\n",
            "Epoch 8/30\n",
            "45/45 [==============================] - ETA: 0s - loss: 0.9259 - categorical_accuracy: 0.6044\n",
            "Epoch 8: saving model to model_init_2022-08-1212_27_53.626149/model-00008-0.92586-0.60444-4.23185-0.20952.h5\n",
            "45/45 [==============================] - 111s 3s/step - loss: 0.9259 - categorical_accuracy: 0.6044 - val_loss: 4.2319 - val_categorical_accuracy: 0.2095 - lr: 1.2500e-04\n",
            "Epoch 9/30\n",
            "45/45 [==============================] - ETA: 0s - loss: 0.8947 - categorical_accuracy: 0.6222\n",
            "Epoch 9: saving model to model_init_2022-08-1212_27_53.626149/model-00009-0.89470-0.62222-3.45724-0.20000.h5\n",
            "\n",
            "Epoch 9: ReduceLROnPlateau reducing learning rate to 6.25000029685907e-05.\n",
            "45/45 [==============================] - 117s 3s/step - loss: 0.8947 - categorical_accuracy: 0.6222 - val_loss: 3.4572 - val_categorical_accuracy: 0.2000 - lr: 1.2500e-04\n",
            "Epoch 10/30\n",
            "45/45 [==============================] - ETA: 0s - loss: 0.9981 - categorical_accuracy: 0.5763\n",
            "Epoch 10: saving model to model_init_2022-08-1212_27_53.626149/model-00010-0.99815-0.57630-2.59766-0.29524.h5\n",
            "45/45 [==============================] - 111s 3s/step - loss: 0.9981 - categorical_accuracy: 0.5763 - val_loss: 2.5977 - val_categorical_accuracy: 0.2952 - lr: 6.2500e-05\n",
            "Epoch 11/30\n",
            "45/45 [==============================] - ETA: 0s - loss: 0.9658 - categorical_accuracy: 0.6000\n",
            "Epoch 11: saving model to model_init_2022-08-1212_27_53.626149/model-00011-0.96581-0.60000-2.07378-0.31429.h5\n",
            "\n",
            "Epoch 11: ReduceLROnPlateau reducing learning rate to 3.125000148429535e-05.\n",
            "45/45 [==============================] - 111s 3s/step - loss: 0.9658 - categorical_accuracy: 0.6000 - val_loss: 2.0738 - val_categorical_accuracy: 0.3143 - lr: 6.2500e-05\n",
            "Epoch 12/30\n",
            "45/45 [==============================] - ETA: 0s - loss: 0.9657 - categorical_accuracy: 0.5852\n",
            "Epoch 12: saving model to model_init_2022-08-1212_27_53.626149/model-00012-0.96567-0.58519-1.73260-0.38095.h5\n",
            "45/45 [==============================] - 112s 3s/step - loss: 0.9657 - categorical_accuracy: 0.5852 - val_loss: 1.7326 - val_categorical_accuracy: 0.3810 - lr: 3.1250e-05\n",
            "Epoch 13/30\n",
            "45/45 [==============================] - ETA: 0s - loss: 0.9216 - categorical_accuracy: 0.6119\n",
            "Epoch 13: saving model to model_init_2022-08-1212_27_53.626149/model-00013-0.92157-0.61185-1.39594-0.54286.h5\n",
            "45/45 [==============================] - 109s 2s/step - loss: 0.9216 - categorical_accuracy: 0.6119 - val_loss: 1.3959 - val_categorical_accuracy: 0.5429 - lr: 3.1250e-05\n",
            "Epoch 14/30\n",
            "45/45 [==============================] - ETA: 0s - loss: 0.9198 - categorical_accuracy: 0.6119\n",
            "Epoch 14: saving model to model_init_2022-08-1212_27_53.626149/model-00014-0.91976-0.61185-1.12961-0.58095.h5\n",
            "45/45 [==============================] - 113s 3s/step - loss: 0.9198 - categorical_accuracy: 0.6119 - val_loss: 1.1296 - val_categorical_accuracy: 0.5810 - lr: 3.1250e-05\n",
            "Epoch 15/30\n",
            "45/45 [==============================] - ETA: 0s - loss: 0.9184 - categorical_accuracy: 0.6178\n",
            "Epoch 15: saving model to model_init_2022-08-1212_27_53.626149/model-00015-0.91841-0.61778-1.06655-0.56190.h5\n",
            "45/45 [==============================] - 111s 3s/step - loss: 0.9184 - categorical_accuracy: 0.6178 - val_loss: 1.0666 - val_categorical_accuracy: 0.5619 - lr: 3.1250e-05\n",
            "Epoch 16/30\n",
            "45/45 [==============================] - ETA: 0s - loss: 0.8612 - categorical_accuracy: 0.6237\n",
            "Epoch 16: saving model to model_init_2022-08-1212_27_53.626149/model-00016-0.86118-0.62370-0.92516-0.64762.h5\n",
            "45/45 [==============================] - 111s 3s/step - loss: 0.8612 - categorical_accuracy: 0.6237 - val_loss: 0.9252 - val_categorical_accuracy: 0.6476 - lr: 3.1250e-05\n",
            "Epoch 17/30\n",
            "45/45 [==============================] - ETA: 0s - loss: 0.9391 - categorical_accuracy: 0.6119\n",
            "Epoch 17: saving model to model_init_2022-08-1212_27_53.626149/model-00017-0.93908-0.61185-0.95601-0.63810.h5\n",
            "45/45 [==============================] - 109s 2s/step - loss: 0.9391 - categorical_accuracy: 0.6119 - val_loss: 0.9560 - val_categorical_accuracy: 0.6381 - lr: 3.1250e-05\n",
            "Epoch 18/30\n",
            "45/45 [==============================] - ETA: 0s - loss: 0.9287 - categorical_accuracy: 0.6133\n",
            "Epoch 18: saving model to model_init_2022-08-1212_27_53.626149/model-00018-0.92870-0.61333-0.79756-0.72381.h5\n",
            "45/45 [==============================] - 113s 3s/step - loss: 0.9287 - categorical_accuracy: 0.6133 - val_loss: 0.7976 - val_categorical_accuracy: 0.7238 - lr: 3.1250e-05\n",
            "Epoch 19/30\n",
            "45/45 [==============================] - ETA: 0s - loss: 0.9227 - categorical_accuracy: 0.6281\n",
            "Epoch 19: saving model to model_init_2022-08-1212_27_53.626149/model-00019-0.92267-0.62815-0.78313-0.79048.h5\n",
            "45/45 [==============================] - 113s 3s/step - loss: 0.9227 - categorical_accuracy: 0.6281 - val_loss: 0.7831 - val_categorical_accuracy: 0.7905 - lr: 3.1250e-05\n",
            "Epoch 20/30\n",
            "45/45 [==============================] - ETA: 0s - loss: 0.9110 - categorical_accuracy: 0.6237\n",
            "Epoch 20: saving model to model_init_2022-08-1212_27_53.626149/model-00020-0.91103-0.62370-0.62831-0.85714.h5\n",
            "45/45 [==============================] - 109s 2s/step - loss: 0.9110 - categorical_accuracy: 0.6237 - val_loss: 0.6283 - val_categorical_accuracy: 0.8571 - lr: 3.1250e-05\n",
            "Epoch 21/30\n",
            "45/45 [==============================] - ETA: 0s - loss: 0.9216 - categorical_accuracy: 0.5956\n",
            "Epoch 21: saving model to model_init_2022-08-1212_27_53.626149/model-00021-0.92160-0.59556-0.72649-0.71429.h5\n",
            "45/45 [==============================] - 111s 3s/step - loss: 0.9216 - categorical_accuracy: 0.5956 - val_loss: 0.7265 - val_categorical_accuracy: 0.7143 - lr: 3.1250e-05\n",
            "Epoch 22/30\n",
            "45/45 [==============================] - ETA: 0s - loss: 0.8598 - categorical_accuracy: 0.6607\n",
            "Epoch 22: saving model to model_init_2022-08-1212_27_53.626149/model-00022-0.85982-0.66074-0.73643-0.69524.h5\n",
            "\n",
            "Epoch 22: ReduceLROnPlateau reducing learning rate to 1.5625000742147677e-05.\n",
            "45/45 [==============================] - 109s 2s/step - loss: 0.8598 - categorical_accuracy: 0.6607 - val_loss: 0.7364 - val_categorical_accuracy: 0.6952 - lr: 3.1250e-05\n",
            "Epoch 23/30\n",
            "45/45 [==============================] - ETA: 0s - loss: 0.9554 - categorical_accuracy: 0.6030\n",
            "Epoch 23: saving model to model_init_2022-08-1212_27_53.626149/model-00023-0.95544-0.60296-0.72315-0.70476.h5\n",
            "45/45 [==============================] - 111s 3s/step - loss: 0.9554 - categorical_accuracy: 0.6030 - val_loss: 0.7231 - val_categorical_accuracy: 0.7048 - lr: 1.5625e-05\n",
            "Epoch 24/30\n",
            "45/45 [==============================] - ETA: 0s - loss: 0.8485 - categorical_accuracy: 0.6400\n",
            "Epoch 24: saving model to model_init_2022-08-1212_27_53.626149/model-00024-0.84850-0.64000-0.70472-0.77143.h5\n",
            "\n",
            "Epoch 24: ReduceLROnPlateau reducing learning rate to 1e-05.\n",
            "45/45 [==============================] - 111s 3s/step - loss: 0.8485 - categorical_accuracy: 0.6400 - val_loss: 0.7047 - val_categorical_accuracy: 0.7714 - lr: 1.5625e-05\n",
            "Epoch 25/30\n",
            "45/45 [==============================] - ETA: 0s - loss: 0.9319 - categorical_accuracy: 0.6163\n",
            "Epoch 25: saving model to model_init_2022-08-1212_27_53.626149/model-00025-0.93185-0.61630-0.71840-0.80000.h5\n",
            "45/45 [==============================] - 111s 3s/step - loss: 0.9319 - categorical_accuracy: 0.6163 - val_loss: 0.7184 - val_categorical_accuracy: 0.8000 - lr: 1.0000e-05\n",
            "Epoch 26/30\n",
            "45/45 [==============================] - ETA: 0s - loss: 0.9416 - categorical_accuracy: 0.6207\n",
            "Epoch 26: saving model to model_init_2022-08-1212_27_53.626149/model-00026-0.94165-0.62074-0.75625-0.69524.h5\n",
            "45/45 [==============================] - 111s 3s/step - loss: 0.9416 - categorical_accuracy: 0.6207 - val_loss: 0.7563 - val_categorical_accuracy: 0.6952 - lr: 1.0000e-05\n",
            "Epoch 27/30\n",
            "45/45 [==============================] - ETA: 0s - loss: 0.8570 - categorical_accuracy: 0.6370\n",
            "Epoch 27: saving model to model_init_2022-08-1212_27_53.626149/model-00027-0.85698-0.63704-0.73447-0.77143.h5\n",
            "45/45 [==============================] - 112s 3s/step - loss: 0.8570 - categorical_accuracy: 0.6370 - val_loss: 0.7345 - val_categorical_accuracy: 0.7714 - lr: 1.0000e-05\n",
            "Epoch 28/30\n",
            "45/45 [==============================] - ETA: 0s - loss: 0.9339 - categorical_accuracy: 0.6074\n",
            "Epoch 28: saving model to model_init_2022-08-1212_27_53.626149/model-00028-0.93391-0.60741-0.68585-0.81905.h5\n",
            "45/45 [==============================] - 110s 3s/step - loss: 0.9339 - categorical_accuracy: 0.6074 - val_loss: 0.6859 - val_categorical_accuracy: 0.8190 - lr: 1.0000e-05\n",
            "Epoch 29/30\n",
            "45/45 [==============================] - ETA: 0s - loss: 0.8355 - categorical_accuracy: 0.6711\n",
            "Epoch 29: saving model to model_init_2022-08-1212_27_53.626149/model-00029-0.83546-0.67111-0.57956-0.84762.h5\n",
            "45/45 [==============================] - 111s 3s/step - loss: 0.8355 - categorical_accuracy: 0.6711 - val_loss: 0.5796 - val_categorical_accuracy: 0.8476 - lr: 1.0000e-05\n",
            "Epoch 30/30\n",
            "45/45 [==============================] - ETA: 0s - loss: 0.8857 - categorical_accuracy: 0.6533\n",
            "Epoch 30: saving model to model_init_2022-08-1212_27_53.626149/model-00030-0.88566-0.65333-0.71253-0.79048.h5\n",
            "45/45 [==============================] - 110s 2s/step - loss: 0.8857 - categorical_accuracy: 0.6533 - val_loss: 0.7125 - val_categorical_accuracy: 0.7905 - lr: 1.0000e-05\n"
          ]
        },
        {
          "data": {
            "text/plain": [
              "<keras.callbacks.History at 0x7f2379a6de10>"
            ]
          },
          "execution_count": 63,
          "metadata": {},
          "output_type": "execute_result"
        }
      ],
      "source": [
        "# model_1.fit_generator(train_generator, steps_per_epoch=steps_per_epoch, epochs=num_epochs, verbose=1, \n",
        "#                     callbacks=callbacks_list, validation_data=val_generator, \n",
        "#                     validation_steps=validation_steps, class_weight=None, workers=1, initial_epoch=0)"
      ]
    },
    {
      "cell_type": "markdown",
      "source": [
        "# Final Conv3D Model"
      ],
      "metadata": {
        "id": "0hADQ6tGnvJP"
      }
    },
    {
      "cell_type": "code",
      "execution_count": null,
      "metadata": {
        "colab": {
          "base_uri": "https://localhost:8080/"
        },
        "outputId": "a61519e1-c49f-488d-fde7-a412454fa41f",
        "id": "QgfWn1OySMTM"
      },
      "outputs": [
        {
          "output_type": "stream",
          "name": "stderr",
          "text": [
            "/usr/local/lib/python3.7/dist-packages/ipykernel_launcher.py:3: UserWarning: `Model.fit_generator` is deprecated and will be removed in a future version. Please use `Model.fit`, which supports generators.\n",
            "  This is separate from the ipykernel package so we can avoid doing imports until\n"
          ]
        },
        {
          "output_type": "stream",
          "name": "stdout",
          "text": [
            "Source path =  /content/drive/MyDrive/DL_Course_Project/Project_data/train ; batch size = 20\n",
            "Epoch 1/30\n",
            "34/34 [==============================] - ETA: 0s - loss: 1.8844 - categorical_accuracy: 0.2059 Source path =  /content/drive/MyDrive/DL_Course_Project/Project_data/val ; batch size = 20\n",
            "\n",
            "Epoch 1: saving model to model_init_2022-08-1314_35_08.114078/model-00001-1.88444-0.20588-1.71884-0.26000.h5\n",
            "34/34 [==============================] - 1990s 60s/step - loss: 1.8844 - categorical_accuracy: 0.2059 - val_loss: 1.7188 - val_categorical_accuracy: 0.2600 - lr: 0.0010\n",
            "Epoch 2/30\n",
            "34/34 [==============================] - ETA: 0s - loss: 1.6535 - categorical_accuracy: 0.2206 \n",
            "Epoch 2: saving model to model_init_2022-08-1314_35_08.114078/model-00002-1.65351-0.22059-1.65913-0.30000.h5\n",
            "34/34 [==============================] - 840s 25s/step - loss: 1.6535 - categorical_accuracy: 0.2206 - val_loss: 1.6591 - val_categorical_accuracy: 0.3000 - lr: 0.0010\n",
            "Epoch 3/30\n",
            "34/34 [==============================] - ETA: 0s - loss: 1.5128 - categorical_accuracy: 0.2750\n",
            "Epoch 3: saving model to model_init_2022-08-1314_35_08.114078/model-00003-1.51278-0.27500-1.33446-0.23000.h5\n",
            "34/34 [==============================] - 329s 10s/step - loss: 1.5128 - categorical_accuracy: 0.2750 - val_loss: 1.3345 - val_categorical_accuracy: 0.2300 - lr: 0.0010\n",
            "Epoch 4/30\n",
            "34/34 [==============================] - ETA: 0s - loss: 1.3015 - categorical_accuracy: 0.3809\n",
            "Epoch 4: saving model to model_init_2022-08-1314_35_08.114078/model-00004-1.30152-0.38088-1.23525-0.41000.h5\n",
            "34/34 [==============================] - 212s 6s/step - loss: 1.3015 - categorical_accuracy: 0.3809 - val_loss: 1.2353 - val_categorical_accuracy: 0.4100 - lr: 0.0010\n",
            "Epoch 5/30\n",
            "34/34 [==============================] - ETA: 0s - loss: 1.2153 - categorical_accuracy: 0.4368\n",
            "Epoch 5: saving model to model_init_2022-08-1314_35_08.114078/model-00005-1.21528-0.43676-1.27929-0.44000.h5\n",
            "34/34 [==============================] - 171s 5s/step - loss: 1.2153 - categorical_accuracy: 0.4368 - val_loss: 1.2793 - val_categorical_accuracy: 0.4400 - lr: 0.0010\n",
            "Epoch 6/30\n",
            "34/34 [==============================] - ETA: 0s - loss: 1.2190 - categorical_accuracy: 0.4368\n",
            "Epoch 6: saving model to model_init_2022-08-1314_35_08.114078/model-00006-1.21899-0.43676-1.16829-0.57000.h5\n",
            "34/34 [==============================] - 149s 5s/step - loss: 1.2190 - categorical_accuracy: 0.4368 - val_loss: 1.1683 - val_categorical_accuracy: 0.5700 - lr: 0.0010\n",
            "Epoch 7/30\n",
            "34/34 [==============================] - ETA: 0s - loss: 1.1378 - categorical_accuracy: 0.4735\n",
            "Epoch 7: saving model to model_init_2022-08-1314_35_08.114078/model-00007-1.13784-0.47353-1.06023-0.53000.h5\n",
            "34/34 [==============================] - 150s 5s/step - loss: 1.1378 - categorical_accuracy: 0.4735 - val_loss: 1.0602 - val_categorical_accuracy: 0.5300 - lr: 0.0010\n",
            "Epoch 8/30\n",
            "34/34 [==============================] - ETA: 0s - loss: 1.1486 - categorical_accuracy: 0.4735\n",
            "Epoch 8: saving model to model_init_2022-08-1314_35_08.114078/model-00008-1.14858-0.47353-1.05081-0.57000.h5\n",
            "34/34 [==============================] - 144s 4s/step - loss: 1.1486 - categorical_accuracy: 0.4735 - val_loss: 1.0508 - val_categorical_accuracy: 0.5700 - lr: 0.0010\n",
            "Epoch 9/30\n",
            "34/34 [==============================] - ETA: 0s - loss: 1.0433 - categorical_accuracy: 0.5559\n",
            "Epoch 9: saving model to model_init_2022-08-1314_35_08.114078/model-00009-1.04334-0.55588-1.06139-0.43000.h5\n",
            "34/34 [==============================] - 145s 4s/step - loss: 1.0433 - categorical_accuracy: 0.5559 - val_loss: 1.0614 - val_categorical_accuracy: 0.4300 - lr: 0.0010\n",
            "Epoch 10/30\n",
            "34/34 [==============================] - ETA: 0s - loss: 0.9627 - categorical_accuracy: 0.5765\n",
            "Epoch 10: saving model to model_init_2022-08-1314_35_08.114078/model-00010-0.96267-0.57647-0.93938-0.58000.h5\n",
            "34/34 [==============================] - 147s 4s/step - loss: 0.9627 - categorical_accuracy: 0.5765 - val_loss: 0.9394 - val_categorical_accuracy: 0.5800 - lr: 0.0010\n",
            "Epoch 11/30\n",
            "34/34 [==============================] - ETA: 0s - loss: 0.9247 - categorical_accuracy: 0.5926\n",
            "Epoch 11: saving model to model_init_2022-08-1314_35_08.114078/model-00011-0.92468-0.59265-1.05780-0.56000.h5\n",
            "34/34 [==============================] - 144s 4s/step - loss: 0.9247 - categorical_accuracy: 0.5926 - val_loss: 1.0578 - val_categorical_accuracy: 0.5600 - lr: 0.0010\n",
            "Epoch 12/30\n",
            "34/34 [==============================] - ETA: 0s - loss: 0.8021 - categorical_accuracy: 0.6794\n",
            "Epoch 12: saving model to model_init_2022-08-1314_35_08.114078/model-00012-0.80212-0.67941-0.67073-0.69000.h5\n",
            "34/34 [==============================] - 149s 4s/step - loss: 0.8021 - categorical_accuracy: 0.6794 - val_loss: 0.6707 - val_categorical_accuracy: 0.6900 - lr: 0.0010\n",
            "Epoch 13/30\n",
            "34/34 [==============================] - ETA: 0s - loss: 0.7401 - categorical_accuracy: 0.7015\n",
            "Epoch 13: saving model to model_init_2022-08-1314_35_08.114078/model-00013-0.74015-0.70147-0.70063-0.67000.h5\n",
            "34/34 [==============================] - 149s 5s/step - loss: 0.7401 - categorical_accuracy: 0.7015 - val_loss: 0.7006 - val_categorical_accuracy: 0.6700 - lr: 0.0010\n",
            "Epoch 14/30\n",
            "34/34 [==============================] - ETA: 0s - loss: 0.6432 - categorical_accuracy: 0.7074\n",
            "Epoch 14: saving model to model_init_2022-08-1314_35_08.114078/model-00014-0.64317-0.70735-0.63930-0.71000.h5\n",
            "34/34 [==============================] - 142s 4s/step - loss: 0.6432 - categorical_accuracy: 0.7074 - val_loss: 0.6393 - val_categorical_accuracy: 0.7100 - lr: 0.0010\n",
            "Epoch 15/30\n",
            "34/34 [==============================] - ETA: 0s - loss: 0.7628 - categorical_accuracy: 0.6853\n",
            "Epoch 15: saving model to model_init_2022-08-1314_35_08.114078/model-00015-0.76282-0.68529-0.63372-0.74000.h5\n",
            "34/34 [==============================] - 141s 4s/step - loss: 0.7628 - categorical_accuracy: 0.6853 - val_loss: 0.6337 - val_categorical_accuracy: 0.7400 - lr: 0.0010\n",
            "Epoch 16/30\n",
            "34/34 [==============================] - ETA: 0s - loss: 0.6065 - categorical_accuracy: 0.7044\n",
            "Epoch 16: saving model to model_init_2022-08-1314_35_08.114078/model-00016-0.60652-0.70441-0.62024-0.67000.h5\n",
            "34/34 [==============================] - 150s 5s/step - loss: 0.6065 - categorical_accuracy: 0.7044 - val_loss: 0.6202 - val_categorical_accuracy: 0.6700 - lr: 0.0010\n",
            "Epoch 17/30\n",
            "34/34 [==============================] - ETA: 0s - loss: 0.5681 - categorical_accuracy: 0.7441\n",
            "Epoch 17: saving model to model_init_2022-08-1314_35_08.114078/model-00017-0.56812-0.74412-0.49148-0.80000.h5\n",
            "34/34 [==============================] - 144s 4s/step - loss: 0.5681 - categorical_accuracy: 0.7441 - val_loss: 0.4915 - val_categorical_accuracy: 0.8000 - lr: 0.0010\n",
            "Epoch 18/30\n",
            "34/34 [==============================] - ETA: 0s - loss: 0.4498 - categorical_accuracy: 0.7971\n",
            "Epoch 18: saving model to model_init_2022-08-1314_35_08.114078/model-00018-0.44983-0.79706-0.87503-0.64000.h5\n",
            "34/34 [==============================] - 141s 4s/step - loss: 0.4498 - categorical_accuracy: 0.7971 - val_loss: 0.8750 - val_categorical_accuracy: 0.6400 - lr: 0.0010\n",
            "Epoch 19/30\n",
            "34/34 [==============================] - ETA: 0s - loss: 0.5037 - categorical_accuracy: 0.7809\n",
            "Epoch 19: saving model to model_init_2022-08-1314_35_08.114078/model-00019-0.50367-0.78088-0.80387-0.67000.h5\n",
            "\n",
            "Epoch 19: ReduceLROnPlateau reducing learning rate to 0.0005000000237487257.\n",
            "34/34 [==============================] - 133s 4s/step - loss: 0.5037 - categorical_accuracy: 0.7809 - val_loss: 0.8039 - val_categorical_accuracy: 0.6700 - lr: 0.0010\n",
            "Epoch 20/30\n",
            "34/34 [==============================] - ETA: 0s - loss: 0.3739 - categorical_accuracy: 0.8426\n",
            "Epoch 20: saving model to model_init_2022-08-1314_35_08.114078/model-00020-0.37393-0.84265-0.31963-0.90000.h5\n",
            "34/34 [==============================] - 139s 4s/step - loss: 0.3739 - categorical_accuracy: 0.8426 - val_loss: 0.3196 - val_categorical_accuracy: 0.9000 - lr: 5.0000e-04\n",
            "Epoch 21/30\n",
            "34/34 [==============================] - ETA: 0s - loss: 0.3211 - categorical_accuracy: 0.8574\n",
            "Epoch 21: saving model to model_init_2022-08-1314_35_08.114078/model-00021-0.32114-0.85735-0.39494-0.87000.h5\n",
            "34/34 [==============================] - 147s 4s/step - loss: 0.3211 - categorical_accuracy: 0.8574 - val_loss: 0.3949 - val_categorical_accuracy: 0.8700 - lr: 5.0000e-04\n",
            "Epoch 22/30\n",
            "34/34 [==============================] - ETA: 0s - loss: 0.3777 - categorical_accuracy: 0.8412\n",
            "Epoch 22: saving model to model_init_2022-08-1314_35_08.114078/model-00022-0.37774-0.84118-0.36366-0.84000.h5\n",
            "\n",
            "Epoch 22: ReduceLROnPlateau reducing learning rate to 0.0002500000118743628.\n",
            "34/34 [==============================] - 143s 4s/step - loss: 0.3777 - categorical_accuracy: 0.8412 - val_loss: 0.3637 - val_categorical_accuracy: 0.8400 - lr: 5.0000e-04\n",
            "Epoch 23/30\n",
            "34/34 [==============================] - ETA: 0s - loss: 0.3056 - categorical_accuracy: 0.8706\n",
            "Epoch 23: saving model to model_init_2022-08-1314_35_08.114078/model-00023-0.30556-0.87059-0.34155-0.86000.h5\n",
            "34/34 [==============================] - 146s 4s/step - loss: 0.3056 - categorical_accuracy: 0.8706 - val_loss: 0.3416 - val_categorical_accuracy: 0.8600 - lr: 2.5000e-04\n",
            "Epoch 24/30\n",
            "34/34 [==============================] - ETA: 0s - loss: 0.2626 - categorical_accuracy: 0.8926\n",
            "Epoch 24: saving model to model_init_2022-08-1314_35_08.114078/model-00024-0.26261-0.89265-0.36462-0.89000.h5\n",
            "\n",
            "Epoch 24: ReduceLROnPlateau reducing learning rate to 0.0001250000059371814.\n",
            "34/34 [==============================] - 140s 4s/step - loss: 0.2626 - categorical_accuracy: 0.8926 - val_loss: 0.3646 - val_categorical_accuracy: 0.8900 - lr: 2.5000e-04\n",
            "Epoch 25/30\n",
            "34/34 [==============================] - ETA: 0s - loss: 0.2377 - categorical_accuracy: 0.9088\n",
            "Epoch 25: saving model to model_init_2022-08-1314_35_08.114078/model-00025-0.23774-0.90882-0.36762-0.87000.h5\n",
            "34/34 [==============================] - 148s 4s/step - loss: 0.2377 - categorical_accuracy: 0.9088 - val_loss: 0.3676 - val_categorical_accuracy: 0.8700 - lr: 1.2500e-04\n",
            "Epoch 26/30\n",
            "34/34 [==============================] - ETA: 0s - loss: 0.2526 - categorical_accuracy: 0.8912\n",
            "Epoch 26: saving model to model_init_2022-08-1314_35_08.114078/model-00026-0.25265-0.89118-0.46283-0.85000.h5\n",
            "\n",
            "Epoch 26: ReduceLROnPlateau reducing learning rate to 6.25000029685907e-05.\n",
            "34/34 [==============================] - 140s 4s/step - loss: 0.2526 - categorical_accuracy: 0.8912 - val_loss: 0.4628 - val_categorical_accuracy: 0.8500 - lr: 1.2500e-04\n",
            "Epoch 27/30\n",
            "34/34 [==============================] - ETA: 0s - loss: 0.2531 - categorical_accuracy: 0.8971\n",
            "Epoch 27: saving model to model_init_2022-08-1314_35_08.114078/model-00027-0.25312-0.89706-0.42270-0.87000.h5\n",
            "34/34 [==============================] - 143s 4s/step - loss: 0.2531 - categorical_accuracy: 0.8971 - val_loss: 0.4227 - val_categorical_accuracy: 0.8700 - lr: 6.2500e-05\n",
            "Epoch 28/30\n",
            "34/34 [==============================] - ETA: 0s - loss: 0.1991 - categorical_accuracy: 0.9147\n",
            "Epoch 28: saving model to model_init_2022-08-1314_35_08.114078/model-00028-0.19908-0.91471-0.40841-0.84000.h5\n",
            "\n",
            "Epoch 28: ReduceLROnPlateau reducing learning rate to 3.125000148429535e-05.\n",
            "34/34 [==============================] - 142s 4s/step - loss: 0.1991 - categorical_accuracy: 0.9147 - val_loss: 0.4084 - val_categorical_accuracy: 0.8400 - lr: 6.2500e-05\n",
            "Epoch 29/30\n",
            "34/34 [==============================] - ETA: 0s - loss: 0.1982 - categorical_accuracy: 0.9221\n",
            "Epoch 29: saving model to model_init_2022-08-1314_35_08.114078/model-00029-0.19825-0.92206-0.39495-0.87000.h5\n",
            "34/34 [==============================] - 149s 4s/step - loss: 0.1982 - categorical_accuracy: 0.9221 - val_loss: 0.3950 - val_categorical_accuracy: 0.8700 - lr: 3.1250e-05\n",
            "Epoch 30/30\n",
            "34/34 [==============================] - ETA: 0s - loss: 0.1757 - categorical_accuracy: 0.9397\n",
            "Epoch 30: saving model to model_init_2022-08-1314_35_08.114078/model-00030-0.17570-0.93971-0.30883-0.89000.h5\n",
            "34/34 [==============================] - 142s 4s/step - loss: 0.1757 - categorical_accuracy: 0.9397 - val_loss: 0.3088 - val_categorical_accuracy: 0.8900 - lr: 3.1250e-05\n"
          ]
        }
      ],
      "source": [
        "model1_metrics = model_1.fit_generator(train_generator, steps_per_epoch=steps_per_epoch, epochs=num_epochs, verbose=1, \n",
        "                    callbacks=callbacks_list, validation_data=val_generator, \n",
        "                    validation_steps=validation_steps, class_weight=None, workers=1, initial_epoch=0)"
      ]
    },
    {
      "cell_type": "code",
      "execution_count": null,
      "metadata": {
        "id": "LMvF-9Y78Hb_",
        "colab": {
          "base_uri": "https://localhost:8080/",
          "height": 334
        },
        "outputId": "d1ef2448-2057-4044-f519-9eea2abd853d"
      },
      "outputs": [
        {
          "output_type": "display_data",
          "data": {
            "text/plain": [
              "<IPython.core.display.Markdown object>"
            ],
            "text/markdown": "**Training Accuracy:** 0.94%"
          },
          "metadata": {}
        },
        {
          "output_type": "display_data",
          "data": {
            "text/plain": [
              "<IPython.core.display.Markdown object>"
            ],
            "text/markdown": "**Validation Accuracy:** 0.89%"
          },
          "metadata": {}
        },
        {
          "output_type": "display_data",
          "data": {
            "text/plain": [
              "<Figure size 1080x288 with 2 Axes>"
            ],
            "image/png": "[encoded data removed]"
          },
          "metadata": {
            "needs_background": "light"
          }
        }
      ],
      "source": [
        "plot_metrics(model1_metrics)"
      ]
    },
    {
      "cell_type": "markdown",
      "metadata": {
        "id": "x5rchsbj48zH"
      },
      "source": [
        "# CNN+RNN models\n",
        "\n"
      ]
    },
    {
      "cell_type": "code",
      "execution_count": null,
      "metadata": {
        "id": "KLJxxwD233KJ"
      },
      "outputs": [],
      "source": [
        "# train_doc = np.random.permutation(open('/content/Project_data/train.csv').readlines())\n",
        "# val_doc = np.random.permutation(open('/content/Project_data/val.csv').readlines())\n",
        "batch_size = 32"
      ]
    },
    {
      "cell_type": "code",
      "execution_count": null,
      "metadata": {
        "id": "mTf6QLR4sBri"
      },
      "outputs": [],
      "source": [
        "# Global Parameters for the models\n",
        "\n",
        "total_count_frames = 30\n",
        "selected_frames = 15\n",
        "gestures = 5\n",
        "image_height = 120\n",
        "image_width = 120\n",
        "img_idx = np.round(np.linspace(0, total_count_frames-1, selected_frames)).astype(int) #create a list of image numbers you want to use for a particular video\n"
      ]
    },
    {
      "cell_type": "code",
      "execution_count": null,
      "metadata": {
        "colab": {
          "base_uri": "https://localhost:8080/"
        },
        "id": "pfT9_68v33KL",
        "outputId": "9889f3be-2889-494f-b2d3-d2bf1d4aea8a"
      },
      "outputs": [
        {
          "name": "stdout",
          "output_type": "stream",
          "text": [
            "# training sequences = 663\n",
            "# validation sequences = 100\n",
            "# epochs = 30\n"
          ]
        }
      ],
      "source": [
        "curr_dt_time = datetime.datetime.now()\n",
        "train_path = '/content/Project_data/train'\n",
        "val_path = '/content/Project_data/val'\n",
        "num_train_sequences = len(train_doc) # 663\n",
        "print('# training sequences =', num_train_sequences)\n",
        "num_val_sequences = len(val_doc) # 100\n",
        "print('# validation sequences =', num_val_sequences)\n",
        "num_epochs = 30\n",
        "print ('# epochs =', num_epochs)"
      ]
    },
    {
      "cell_type": "markdown",
      "metadata": {
        "id": "oiq3iryjnALF"
      },
      "source": [
        "# Model 1:- VGG16"
      ]
    },
    {
      "cell_type": "code",
      "execution_count": null,
      "metadata": {
        "colab": {
          "base_uri": "https://localhost:8080/"
        },
        "id": "Pd8rz6hNnEnE",
        "outputId": "bd677c9b-e0bb-48c0-a114-431f3baaedb3"
      },
      "outputs": [
        {
          "name": "stdout",
          "output_type": "stream",
          "text": [
            "Downloading data from https://storage.googleapis.com/tensorflow/keras-applications/vgg16/vgg16_weights_tf_dim_ordering_tf_kernels_notop.h5\n",
            "58892288/58889256 [==============================] - 0s 0us/step\n",
            "58900480/58889256 [==============================] - 0s 0us/step\n"
          ]
        }
      ],
      "source": [
        "# from keras.models import Sequential, Model\n",
        "# from keras.layers import Dense, GRU, Flatten, TimeDistributed, Flatten, BatchNormalization, Activation, Dropout\n",
        "# from keras.layers.convolutional import Conv3D, MaxPooling3D\n",
        "# from keras.callbacks import ModelCheckpoint, ReduceLROnPlateau\n",
        "# from keras import optimizers\n",
        "\n",
        "# #write your model here\n",
        "# from keras.applications.vgg16 import VGG16\n",
        "# base_model = VGG16(include_top=False, weights='imagenet', input_shape=(image_height, image_width, 3))\n",
        "# x = base_model.output\n",
        "# x = Flatten()(x)\n",
        "# # x.add(Dropout(0.5))\n",
        "\n",
        "# features = Dense(64, activation='relu')(x)\n",
        "# conv_model = Model(inputs=base_model.input, outputs=features)\n",
        "\n",
        "# for layer in base_model.layers:\n",
        "#     layer.trainable = False\n",
        "\n",
        "# model = Sequential()\n",
        "# model.add(TimeDistributed(conv_model, input_shape=(len(img_idx), image_height, image_width, 3)))\n",
        "# model.add(GRU(64, return_sequences=True))\n",
        "# model.add(GRU(32, return_sequences=True))\n",
        "# model.add(GRU(16))\n",
        "# #model.add(Dropout(0.5))\n",
        "# model.add(Dense(8, activation='relu'))\n",
        "# model.add(Dense(5, activation='softmax'))\n"
      ]
    },
    {
      "cell_type": "code",
      "execution_count": null,
      "metadata": {
        "colab": {
          "base_uri": "https://localhost:8080/"
        },
        "id": "u46IYSq5o9X-",
        "outputId": "3734b74b-ee1b-4c39-c09b-4a18c518f1c2"
      },
      "outputs": [
        {
          "name": "stdout",
          "output_type": "stream",
          "text": [
            "Model: \"sequential\"\n",
            "_________________________________________________________________\n",
            " Layer (type)                Output Shape              Param #   \n",
            "=================================================================\n",
            " time_distributed (TimeDistr  (None, 15, 64)           15009664  \n",
            " ibuted)                                                         \n",
            "                                                                 \n",
            " gru (GRU)                   (None, 15, 64)            24960     \n",
            "                                                                 \n",
            " gru_1 (GRU)                 (None, 15, 32)            9408      \n",
            "                                                                 \n",
            " gru_2 (GRU)                 (None, 16)                2400      \n",
            "                                                                 \n",
            " dense_1 (Dense)             (None, 8)                 136       \n",
            "                                                                 \n",
            " dense_2 (Dense)             (None, 5)                 45        \n",
            "                                                                 \n",
            "=================================================================\n",
            "Total params: 15,046,613\n",
            "Trainable params: 331,925\n",
            "Non-trainable params: 14,714,688\n",
            "_________________________________________________________________\n",
            "None\n"
          ]
        },
        {
          "name": "stderr",
          "output_type": "stream",
          "text": [
            "/usr/local/lib/python3.7/dist-packages/keras/optimizer_v2/gradient_descent.py:102: UserWarning: The `lr` argument is deprecated, use `learning_rate` instead.\n",
            "  super(SGD, self).__init__(name, **kwargs)\n"
          ]
        }
      ],
      "source": [
        "# optimiser = tf.keras.optimizers.SGD(lr=0.001, decay=1e-6, momentum=0.7, nesterov=True)\n",
        "# model.compile(optimizer=optimiser, loss='categorical_crossentropy', metrics=['categorical_accuracy'])\n",
        "# print (model.summary())"
      ]
    },
    {
      "cell_type": "code",
      "execution_count": null,
      "metadata": {
        "colab": {
          "base_uri": "https://localhost:8080/"
        },
        "id": "5HvDdll9q0He",
        "outputId": "3734b74b-ee1b-4c39-c09b-4a18c518f1c2"
      },
      "outputs": [
        {
          "name": "stdout",
          "output_type": "stream",
          "text": [
            "Model: \"sequential\"\n",
            "_________________________________________________________________\n",
            " Layer (type)                Output Shape              Param #   \n",
            "=================================================================\n",
            " time_distributed (TimeDistr  (None, 15, 64)           15009664  \n",
            " ibuted)                                                         \n",
            "                                                                 \n",
            " gru (GRU)                   (None, 15, 64)            24960     \n",
            "                                                                 \n",
            " gru_1 (GRU)                 (None, 15, 32)            9408      \n",
            "                                                                 \n",
            " gru_2 (GRU)                 (None, 16)                2400      \n",
            "                                                                 \n",
            " dense_1 (Dense)             (None, 8)                 136       \n",
            "                                                                 \n",
            " dense_2 (Dense)             (None, 5)                 45        \n",
            "                                                                 \n",
            "=================================================================\n",
            "Total params: 15,046,613\n",
            "Trainable params: 331,925\n",
            "Non-trainable params: 14,714,688\n",
            "_________________________________________________________________\n",
            "None\n"
          ]
        },
        {
          "name": "stderr",
          "output_type": "stream",
          "text": [
            "/usr/local/lib/python3.7/dist-packages/keras/optimizer_v2/gradient_descent.py:102: UserWarning: The `lr` argument is deprecated, use `learning_rate` instead.\n",
            "  super(SGD, self).__init__(name, **kwargs)\n"
          ]
        }
      ],
      "source": [
        "# optimiser = tf.keras.optimizers.SGD(lr=0.001, decay=1e-6, momentum=0.7, nesterov=True)\n",
        "# model.compile(optimizer=optimiser, loss='categorical_crossentropy', metrics=['categorical_accuracy'])\n",
        "# print (model.summary())"
      ]
    },
    {
      "cell_type": "code",
      "execution_count": null,
      "metadata": {
        "id": "eptU0lIOo9OO"
      },
      "outputs": [],
      "source": [
        "# train_generator = generator(train_path, train_doc, batch_size)\n",
        "# val_generator = generator(val_path, val_doc, batch_size)"
      ]
    },
    {
      "cell_type": "code",
      "execution_count": null,
      "metadata": {
        "colab": {
          "base_uri": "https://localhost:8080/"
        },
        "id": "TVDZPfARo9BD",
        "outputId": "74f573f7-7255-4bd0-abe4-9f3d754deb7f"
      },
      "outputs": [
        {
          "name": "stderr",
          "output_type": "stream",
          "text": [
            "WARNING:tensorflow:`period` argument is deprecated. Please use `save_freq` to specify the frequency in number of batches seen.\n",
            "WARNING:tensorflow:`epsilon` argument is deprecated and will be removed, use `min_delta` instead.\n"
          ]
        }
      ],
      "source": [
        "# model_name = 'model_init_exp1' + '_' + str(curr_dt_time).replace(' ','').replace(':','_') + '/'\n",
        "    \n",
        "# if not os.path.exists(model_name):\n",
        "#     os.mkdir(model_name)\n",
        "        \n",
        "# filepath = model_name + 'model-{epoch:05d}-{loss:.5f}-{categorical_accuracy:.5f}-{val_loss:.5f}-{val_categorical_accuracy:.5f}.h5'\n",
        "\n",
        "# checkpoint = ModelCheckpoint(filepath, monitor='val_loss', verbose=1, save_best_only=False, save_weights_only=False, mode='auto', period=1)\n",
        "# # ModelCheckpoint - saves weight and model after every epoch\n",
        "# LR = ReduceLROnPlateau(monitor='val_loss', factor=0.5, patience=2, verbose=1,\n",
        "#                       mode=\"min\", epsilon=0.0001,\n",
        "#                       cooldown=0, min_lr=0.00001) \n",
        "# callbacks_list = [checkpoint, LR]"
      ]
    },
    {
      "cell_type": "code",
      "execution_count": null,
      "metadata": {
        "id": "18IKpOTdo8xR"
      },
      "outputs": [],
      "source": [
        "# if (num_train_sequences%batch_size) == 0:\n",
        "#     steps_per_epoch = int(num_train_sequences/batch_size)\n",
        "# else:\n",
        "#     steps_per_epoch = (num_train_sequences//batch_size) + 1\n",
        "# if (num_val_sequences%batch_size) == 0:\n",
        "#     validation_steps = int(num_val_sequences/batch_size)\n",
        "# else:\n",
        "#     validation_steps = (num_val_sequences//batch_size) + 1"
      ]
    },
    {
      "cell_type": "code",
      "execution_count": null,
      "metadata": {
        "colab": {
          "base_uri": "https://localhost:8080/"
        },
        "id": "jbu0ytmZqZrn",
        "outputId": "81ef99a1-7a91-405d-adc5-d93e50cf6484",
        "scrolled": false
      },
      "outputs": [
        {
          "name": "stderr",
          "output_type": "stream",
          "text": [
            "/usr/local/lib/python3.7/dist-packages/ipykernel_launcher.py:3: UserWarning: `Model.fit_generator` is deprecated and will be removed in a future version. Please use `Model.fit`, which supports generators.\n",
            "  This is separate from the ipykernel package so we can avoid doing imports until\n"
          ]
        },
        {
          "name": "stdout",
          "output_type": "stream",
          "text": [
            "Source path =  /content/Project_data/train ; batch size = 32\n",
            "Epoch 1/30\n",
            "21/21 [==============================] - ETA: 0s - loss: 1.6270 - categorical_accuracy: 0.2278Source path =  /content/Project_data/val ; batch size = 32\n",
            "\n",
            "Epoch 1: saving model to model_init_exp1_2022-08-1212_43_51.281419/model-00001-1.62704-0.22775-1.59792-0.27000.h5\n",
            "21/21 [==============================] - 157s 6s/step - loss: 1.6270 - categorical_accuracy: 0.2278 - val_loss: 1.5979 - val_categorical_accuracy: 0.2700 - lr: 0.0010\n",
            "Epoch 2/30\n",
            "21/21 [==============================] - ETA: 0s - loss: 1.5623 - categorical_accuracy: 0.2981\n",
            "Epoch 2: saving model to model_init_exp1_2022-08-1212_43_51.281419/model-00002-1.56233-0.29814-1.55876-0.25000.h5\n",
            "21/21 [==============================] - 86s 4s/step - loss: 1.5623 - categorical_accuracy: 0.2981 - val_loss: 1.5588 - val_categorical_accuracy: 0.2500 - lr: 0.0010\n",
            "Epoch 3/30\n",
            "21/21 [==============================] - ETA: 0s - loss: 1.4781 - categorical_accuracy: 0.4265\n",
            "Epoch 3: saving model to model_init_exp1_2022-08-1212_43_51.281419/model-00003-1.47806-0.42650-1.60698-0.25000.h5\n",
            "21/21 [==============================] - 85s 4s/step - loss: 1.4781 - categorical_accuracy: 0.4265 - val_loss: 1.6070 - val_categorical_accuracy: 0.2500 - lr: 0.0010\n",
            "Epoch 4/30\n",
            "21/21 [==============================] - ETA: 0s - loss: 1.4403 - categorical_accuracy: 0.4501\n",
            "Epoch 4: saving model to model_init_exp1_2022-08-1212_43_51.281419/model-00004-1.44032-0.45012-1.50707-0.50000.h5\n",
            "21/21 [==============================] - 72s 4s/step - loss: 1.4403 - categorical_accuracy: 0.4501 - val_loss: 1.5071 - val_categorical_accuracy: 0.5000 - lr: 0.0010\n",
            "Epoch 5/30\n",
            "21/21 [==============================] - ETA: 0s - loss: 1.3822 - categorical_accuracy: 0.5038\n",
            "Epoch 5: saving model to model_init_exp1_2022-08-1212_43_51.281419/model-00005-1.38218-0.50376-1.59280-0.31250.h5\n",
            "21/21 [==============================] - 67s 3s/step - loss: 1.3822 - categorical_accuracy: 0.5038 - val_loss: 1.5928 - val_categorical_accuracy: 0.3125 - lr: 0.0010\n",
            "Epoch 6/30\n",
            "21/21 [==============================] - ETA: 0s - loss: 1.3416 - categorical_accuracy: 0.5544\n",
            "Epoch 6: saving model to model_init_exp1_2022-08-1212_43_51.281419/model-00006-1.34157-0.55443-1.51878-0.18750.h5\n",
            "\n",
            "Epoch 6: ReduceLROnPlateau reducing learning rate to 0.0005000000237487257.\n",
            "21/21 [==============================] - 70s 3s/step - loss: 1.3416 - categorical_accuracy: 0.5544 - val_loss: 1.5188 - val_categorical_accuracy: 0.1875 - lr: 0.0010\n",
            "Epoch 7/30\n",
            "21/21 [==============================] - ETA: 0s - loss: 1.2918 - categorical_accuracy: 0.6078\n",
            "Epoch 7: saving model to model_init_exp1_2022-08-1212_43_51.281419/model-00007-1.29182-0.60784-1.45141-0.37500.h5\n",
            "21/21 [==============================] - 61s 3s/step - loss: 1.2918 - categorical_accuracy: 0.6078 - val_loss: 1.4514 - val_categorical_accuracy: 0.3750 - lr: 5.0000e-04\n",
            "Epoch 8/30\n",
            "21/21 [==============================] - ETA: 0s - loss: 1.2518 - categorical_accuracy: 0.6359\n",
            "Epoch 8: saving model to model_init_exp1_2022-08-1212_43_51.281419/model-00008-1.25179-0.63585-1.53901-0.31250.h5\n",
            "21/21 [==============================] - 57s 3s/step - loss: 1.2518 - categorical_accuracy: 0.6359 - val_loss: 1.5390 - val_categorical_accuracy: 0.3125 - lr: 5.0000e-04\n",
            "Epoch 9/30\n",
            "21/21 [==============================] - ETA: 0s - loss: 1.2574 - categorical_accuracy: 0.6134\n",
            "Epoch 9: saving model to model_init_exp1_2022-08-1212_43_51.281419/model-00009-1.25741-0.61345-1.50777-0.37500.h5\n",
            "\n",
            "Epoch 9: ReduceLROnPlateau reducing learning rate to 0.0002500000118743628.\n",
            "21/21 [==============================] - 62s 3s/step - loss: 1.2574 - categorical_accuracy: 0.6134 - val_loss: 1.5078 - val_categorical_accuracy: 0.3750 - lr: 5.0000e-04\n",
            "Epoch 10/30\n",
            "21/21 [==============================] - ETA: 0s - loss: 1.2080 - categorical_accuracy: 0.6919\n",
            "Epoch 10: saving model to model_init_exp1_2022-08-1212_43_51.281419/model-00010-1.20803-0.69188-1.54061-0.18750.h5\n",
            "21/21 [==============================] - 63s 3s/step - loss: 1.2080 - categorical_accuracy: 0.6919 - val_loss: 1.5406 - val_categorical_accuracy: 0.1875 - lr: 2.5000e-04\n",
            "Epoch 11/30\n",
            "21/21 [==============================] - ETA: 0s - loss: 1.1662 - categorical_accuracy: 0.7591\n",
            "Epoch 11: saving model to model_init_exp1_2022-08-1212_43_51.281419/model-00011-1.16621-0.75910-1.51820-0.37500.h5\n",
            "\n",
            "Epoch 11: ReduceLROnPlateau reducing learning rate to 0.0001250000059371814.\n",
            "21/21 [==============================] - 58s 3s/step - loss: 1.1662 - categorical_accuracy: 0.7591 - val_loss: 1.5182 - val_categorical_accuracy: 0.3750 - lr: 2.5000e-04\n",
            "Epoch 12/30\n",
            "21/21 [==============================] - ETA: 0s - loss: 1.1924 - categorical_accuracy: 0.6835\n",
            "Epoch 12: saving model to model_init_exp1_2022-08-1212_43_51.281419/model-00012-1.19244-0.68347-1.53976-0.25000.h5\n",
            "21/21 [==============================] - 60s 3s/step - loss: 1.1924 - categorical_accuracy: 0.6835 - val_loss: 1.5398 - val_categorical_accuracy: 0.2500 - lr: 1.2500e-04\n",
            "Epoch 13/30\n",
            "21/21 [==============================] - ETA: 0s - loss: 1.1422 - categorical_accuracy: 0.7759\n",
            "Epoch 13: saving model to model_init_exp1_2022-08-1212_43_51.281419/model-00013-1.14216-0.77591-1.47135-0.43750.h5\n",
            "\n",
            "Epoch 13: ReduceLROnPlateau reducing learning rate to 6.25000029685907e-05.\n",
            "21/21 [==============================] - 61s 3s/step - loss: 1.1422 - categorical_accuracy: 0.7759 - val_loss: 1.4713 - val_categorical_accuracy: 0.4375 - lr: 1.2500e-04\n",
            "Epoch 14/30\n",
            "21/21 [==============================] - ETA: 0s - loss: 1.1792 - categorical_accuracy: 0.7003\n",
            "Epoch 14: saving model to model_init_exp1_2022-08-1212_43_51.281419/model-00014-1.17921-0.70028-1.50722-0.37500.h5\n",
            "21/21 [==============================] - 61s 3s/step - loss: 1.1792 - categorical_accuracy: 0.7003 - val_loss: 1.5072 - val_categorical_accuracy: 0.3750 - lr: 6.2500e-05\n",
            "Epoch 15/30\n",
            "21/21 [==============================] - ETA: 0s - loss: 1.1383 - categorical_accuracy: 0.7227\n",
            "Epoch 15: saving model to model_init_exp1_2022-08-1212_43_51.281419/model-00015-1.13831-0.72269-1.39773-0.37500.h5\n",
            "21/21 [==============================] - 60s 3s/step - loss: 1.1383 - categorical_accuracy: 0.7227 - val_loss: 1.3977 - val_categorical_accuracy: 0.3750 - lr: 6.2500e-05\n",
            "Epoch 16/30\n",
            "21/21 [==============================] - ETA: 0s - loss: 1.1667 - categorical_accuracy: 0.7395\n",
            "Epoch 16: saving model to model_init_exp1_2022-08-1212_43_51.281419/model-00016-1.16666-0.73950-1.56652-0.43750.h5\n",
            "21/21 [==============================] - 61s 3s/step - loss: 1.1667 - categorical_accuracy: 0.7395 - val_loss: 1.5665 - val_categorical_accuracy: 0.4375 - lr: 6.2500e-05\n",
            "Epoch 17/30\n",
            "21/21 [==============================] - ETA: 0s - loss: 1.1611 - categorical_accuracy: 0.7311\n",
            "Epoch 17: saving model to model_init_exp1_2022-08-1212_43_51.281419/model-00017-1.16109-0.73109-1.48117-0.31250.h5\n",
            "\n",
            "Epoch 17: ReduceLROnPlateau reducing learning rate to 3.125000148429535e-05.\n",
            "21/21 [==============================] - 65s 3s/step - loss: 1.1611 - categorical_accuracy: 0.7311 - val_loss: 1.4812 - val_categorical_accuracy: 0.3125 - lr: 6.2500e-05\n",
            "Epoch 18/30\n",
            "21/21 [==============================] - ETA: 0s - loss: 1.1373 - categorical_accuracy: 0.7451\n",
            "Epoch 18: saving model to model_init_exp1_2022-08-1212_43_51.281419/model-00018-1.13734-0.74510-1.53438-0.31250.h5\n",
            "21/21 [==============================] - 58s 3s/step - loss: 1.1373 - categorical_accuracy: 0.7451 - val_loss: 1.5344 - val_categorical_accuracy: 0.3125 - lr: 3.1250e-05\n",
            "Epoch 19/30\n",
            "21/21 [==============================] - ETA: 0s - loss: 1.1473 - categorical_accuracy: 0.7367\n",
            "Epoch 19: saving model to model_init_exp1_2022-08-1212_43_51.281419/model-00019-1.14731-0.73669-1.43304-0.37500.h5\n",
            "\n",
            "Epoch 19: ReduceLROnPlateau reducing learning rate to 1.5625000742147677e-05.\n",
            "21/21 [==============================] - 65s 3s/step - loss: 1.1473 - categorical_accuracy: 0.7367 - val_loss: 1.4330 - val_categorical_accuracy: 0.3750 - lr: 3.1250e-05\n",
            "Epoch 20/30\n",
            "21/21 [==============================] - ETA: 0s - loss: 1.1472 - categorical_accuracy: 0.7451\n",
            "Epoch 20: saving model to model_init_exp1_2022-08-1212_43_51.281419/model-00020-1.14718-0.74510-1.39959-0.37500.h5\n",
            "21/21 [==============================] - 61s 3s/step - loss: 1.1472 - categorical_accuracy: 0.7451 - val_loss: 1.3996 - val_categorical_accuracy: 0.3750 - lr: 1.5625e-05\n",
            "Epoch 21/30\n",
            "21/21 [==============================] - ETA: 0s - loss: 1.1182 - categorical_accuracy: 0.7759\n",
            "Epoch 21: saving model to model_init_exp1_2022-08-1212_43_51.281419/model-00021-1.11818-0.77591-1.61070-0.37500.h5\n",
            "\n",
            "Epoch 21: ReduceLROnPlateau reducing learning rate to 1e-05.\n",
            "21/21 [==============================] - 62s 3s/step - loss: 1.1182 - categorical_accuracy: 0.7759 - val_loss: 1.6107 - val_categorical_accuracy: 0.3750 - lr: 1.5625e-05\n",
            "Epoch 22/30\n",
            "21/21 [==============================] - ETA: 0s - loss: 1.1698 - categorical_accuracy: 0.7479\n",
            "Epoch 22: saving model to model_init_exp1_2022-08-1212_43_51.281419/model-00022-1.16976-0.74790-1.71401-0.12500.h5\n",
            "21/21 [==============================] - 60s 3s/step - loss: 1.1698 - categorical_accuracy: 0.7479 - val_loss: 1.7140 - val_categorical_accuracy: 0.1250 - lr: 1.0000e-05\n",
            "Epoch 23/30\n",
            "21/21 [==============================] - ETA: 0s - loss: 1.1287 - categorical_accuracy: 0.7619\n",
            "Epoch 23: saving model to model_init_exp1_2022-08-1212_43_51.281419/model-00023-1.12868-0.76190-1.57344-0.25000.h5\n",
            "21/21 [==============================] - 60s 3s/step - loss: 1.1287 - categorical_accuracy: 0.7619 - val_loss: 1.5734 - val_categorical_accuracy: 0.2500 - lr: 1.0000e-05\n",
            "Epoch 24/30\n",
            "21/21 [==============================] - ETA: 0s - loss: 1.1359 - categorical_accuracy: 0.7619\n",
            "Epoch 24: saving model to model_init_exp1_2022-08-1212_43_51.281419/model-00024-1.13590-0.76190-1.49907-0.18750.h5\n",
            "21/21 [==============================] - 62s 3s/step - loss: 1.1359 - categorical_accuracy: 0.7619 - val_loss: 1.4991 - val_categorical_accuracy: 0.1875 - lr: 1.0000e-05\n",
            "Epoch 25/30\n",
            "21/21 [==============================] - ETA: 0s - loss: 1.1473 - categorical_accuracy: 0.7255\n",
            "Epoch 25: saving model to model_init_exp1_2022-08-1212_43_51.281419/model-00025-1.14726-0.72549-1.37605-0.50000.h5\n",
            "21/21 [==============================] - 61s 3s/step - loss: 1.1473 - categorical_accuracy: 0.7255 - val_loss: 1.3760 - val_categorical_accuracy: 0.5000 - lr: 1.0000e-05\n",
            "Epoch 26/30\n",
            "21/21 [==============================] - ETA: 0s - loss: 1.1496 - categorical_accuracy: 0.7619\n",
            "Epoch 26: saving model to model_init_exp1_2022-08-1212_43_51.281419/model-00026-1.14964-0.76190-1.34693-0.62500.h5\n",
            "21/21 [==============================] - 63s 3s/step - loss: 1.1496 - categorical_accuracy: 0.7619 - val_loss: 1.3469 - val_categorical_accuracy: 0.6250 - lr: 1.0000e-05\n",
            "Epoch 27/30\n",
            "21/21 [==============================] - ETA: 0s - loss: 1.1253 - categorical_accuracy: 0.7563\n",
            "Epoch 27: saving model to model_init_exp1_2022-08-1212_43_51.281419/model-00027-1.12530-0.75630-1.51318-0.50000.h5\n",
            "21/21 [==============================] - 62s 3s/step - loss: 1.1253 - categorical_accuracy: 0.7563 - val_loss: 1.5132 - val_categorical_accuracy: 0.5000 - lr: 1.0000e-05\n",
            "Epoch 28/30\n",
            "21/21 [==============================] - ETA: 0s - loss: 1.1499 - categorical_accuracy: 0.7199\n",
            "Epoch 28: saving model to model_init_exp1_2022-08-1212_43_51.281419/model-00028-1.14985-0.71989-1.54433-0.18750.h5\n",
            "21/21 [==============================] - 64s 3s/step - loss: 1.1499 - categorical_accuracy: 0.7199 - val_loss: 1.5443 - val_categorical_accuracy: 0.1875 - lr: 1.0000e-05\n",
            "Epoch 29/30\n",
            "21/21 [==============================] - ETA: 0s - loss: 1.1225 - categorical_accuracy: 0.7871\n",
            "Epoch 29: saving model to model_init_exp1_2022-08-1212_43_51.281419/model-00029-1.12255-0.78711-1.51065-0.43750.h5\n",
            "21/21 [==============================] - 59s 3s/step - loss: 1.1225 - categorical_accuracy: 0.7871 - val_loss: 1.5107 - val_categorical_accuracy: 0.4375 - lr: 1.0000e-05\n",
            "Epoch 30/30\n",
            "21/21 [==============================] - ETA: 0s - loss: 1.1309 - categorical_accuracy: 0.7619\n",
            "Epoch 30: saving model to model_init_exp1_2022-08-1212_43_51.281419/model-00030-1.13090-0.76190-1.44128-0.37500.h5\n",
            "21/21 [==============================] - 62s 3s/step - loss: 1.1309 - categorical_accuracy: 0.7619 - val_loss: 1.4413 - val_categorical_accuracy: 0.3750 - lr: 1.0000e-05\n"
          ]
        }
      ],
      "source": [
        "# metrics1 = model.fit_generator(train_generator, steps_per_epoch=steps_per_epoch, epochs=num_epochs, verbose=1, \n",
        "#                     callbacks=callbacks_list, validation_data=val_generator, \n",
        "#                     validation_steps=validation_steps, class_weight=None, workers=1, initial_epoch=0)"
      ]
    },
    {
      "cell_type": "code",
      "execution_count": null,
      "metadata": {
        "colab": {
          "base_uri": "https://localhost:8080/",
          "height": 334
        },
        "id": "SJEJmHfULxX5",
        "outputId": "d112a622-642e-4271-9105-4c6dabd74f35"
      },
      "outputs": [
        {
          "data": {
            "text/markdown": [
              "**Training Accuracy:** 0.76%"
            ],
            "text/plain": [
              "<IPython.core.display.Markdown object>"
            ]
          },
          "metadata": {},
          "output_type": "display_data"
        },
        {
          "data": {
            "text/markdown": [
              "**Validation Accuracy:** 0.38%"
            ],
            "text/plain": [
              "<IPython.core.display.Markdown object>"
            ]
          },
          "metadata": {},
          "output_type": "display_data"
        },
        {
          "data": {
            "image/png": "[encoded data removed]",
            "text/plain": [
              "<Figure size 1080x288 with 2 Axes>"
            ]
          },
          "metadata": {
            "needs_background": "light"
          },
          "output_type": "display_data"
        }
      ],
      "source": [
        "# plot_metrics(metrics1)"
      ]
    },
    {
      "cell_type": "markdown",
      "metadata": {
        "id": "x72HLUbnvGEu"
      },
      "source": [
        "# Model 2:- CNN+LSTM with 'Adam' optimizer "
      ]
    },
    {
      "cell_type": "code",
      "execution_count": null,
      "metadata": {
        "id": "H2DxnHsbq2Yc"
      },
      "outputs": [],
      "source": [
        "total_count_frames = 30\n",
        "selected_frames = 15\n",
        "gestures = 5\n",
        "image_height = 120\n",
        "image_width = 120\n",
        "img_idx = np.round(np.linspace(0, total_count_frames-1, selected_frames)).astype(int)"
      ]
    },
    {
      "cell_type": "code",
      "execution_count": null,
      "metadata": {
        "id": "HMkhV0Yvve3f"
      },
      "outputs": [],
      "source": [
        "train_doc = np.random.permutation(open('/content/Project_data/train.csv').readlines())\n",
        "val_doc = np.random.permutation(open('/content/Project_data/val.csv').readlines())\n",
        "batch_size = 8"
      ]
    },
    {
      "cell_type": "code",
      "execution_count": null,
      "metadata": {
        "id": "hnXxD4IC33KM"
      },
      "outputs": [],
      "source": [
        "# from keras.models import Sequential, Model\n",
        "# from keras.layers import Conv2D,MaxPooling2D\n",
        "# from keras.layers import Dense, GRU, Flatten, TimeDistributed, Flatten, BatchNormalization, Activation\n",
        "# from keras.layers.convolutional import Conv3D, MaxPooling3D\n",
        "# from keras.callbacks import ModelCheckpoint, ReduceLROnPlateau\n",
        "# from keras import optimizers\n",
        "# from keras.layers import Dense, GRU, Flatten, TimeDistributed, Flatten, BatchNormalization, Activation, Dropout, LSTM, Bidirectional\n",
        "\n",
        "# model = Sequential()\n",
        "# model.add(TimeDistributed(Conv2D(16, (3, 3) , padding='same', activation='relu'),\n",
        "#                                   input_shape=(len(img_idx), image_height, image_width, 3)))\n",
        "# model.add(TimeDistributed(BatchNormalization()))\n",
        "# model.add(TimeDistributed(MaxPooling2D((2, 2))))\n",
        "\n",
        "# model.add(TimeDistributed(Conv2D(32, (3, 3) , padding='same', activation='relu')))\n",
        "# model.add(TimeDistributed(BatchNormalization()))\n",
        "# model.add(TimeDistributed(MaxPooling2D((2, 2))))\n",
        " \n",
        "# model.add(TimeDistributed(Conv2D(64, (3,3), padding='same', activation='relu')))\n",
        "# model.add(TimeDistributed(BatchNormalization()))\n",
        "# model.add(TimeDistributed(MaxPooling2D((2, 2))))\n",
        " \n",
        "# model.add(TimeDistributed(Conv2D(128, (3,3), padding='same', activation='relu')))\n",
        "# model.add(TimeDistributed(BatchNormalization()))\n",
        "# model.add(TimeDistributed(MaxPooling2D((2, 2))))\n",
        " \n",
        "# model.add(TimeDistributed(Conv2D(256, (3,3), padding='same', activation='relu')))\n",
        "# model.add(TimeDistributed(BatchNormalization()))\n",
        "# model.add(TimeDistributed(MaxPooling2D((2, 2))))\n",
        " \n",
        " \n",
        "# model.add(TimeDistributed(Flatten()))\n",
        "\n",
        "# model.add(LSTM(128))\n",
        "# model.add(Dropout(0.25))\n",
        " \n",
        "# model.add(Dense(128,activation='relu'))\n",
        "# model.add(Dropout(0.25))\n",
        "        \n",
        "# model.add(Dense(5, activation='softmax'))\n"
      ]
    },
    {
      "cell_type": "markdown",
      "metadata": {
        "id": "GtDvY96Y33KM"
      },
      "source": [
        "Now that you have written the model, the next step is to `compile` the model. When you print the `summary` of the model, you'll see the total number of parameters you have to train."
      ]
    },
    {
      "cell_type": "code",
      "execution_count": null,
      "metadata": {
        "colab": {
          "base_uri": "https://localhost:8080/"
        },
        "id": "awBhqmO433KM",
        "outputId": "446fde1f-0284-493a-ed2c-c3401a2048fc",
        "scrolled": false
      },
      "outputs": [
        {
          "name": "stdout",
          "output_type": "stream",
          "text": [
            "Model: \"sequential\"\n",
            "_________________________________________________________________\n",
            " Layer (type)                Output Shape              Param #   \n",
            "=================================================================\n",
            " time_distributed (TimeDistr  (None, 15, 120, 120, 16)  448      \n",
            " ibuted)                                                         \n",
            "                                                                 \n",
            " time_distributed_1 (TimeDis  (None, 15, 120, 120, 16)  64       \n",
            " tributed)                                                       \n",
            "                                                                 \n",
            " time_distributed_2 (TimeDis  (None, 15, 60, 60, 16)   0         \n",
            " tributed)                                                       \n",
            "                                                                 \n",
            " time_distributed_3 (TimeDis  (None, 15, 60, 60, 32)   4640      \n",
            " tributed)                                                       \n",
            "                                                                 \n",
            " time_distributed_4 (TimeDis  (None, 15, 60, 60, 32)   128       \n",
            " tributed)                                                       \n",
            "                                                                 \n",
            " time_distributed_5 (TimeDis  (None, 15, 30, 30, 32)   0         \n",
            " tributed)                                                       \n",
            "                                                                 \n",
            " time_distributed_6 (TimeDis  (None, 15, 30, 30, 64)   18496     \n",
            " tributed)                                                       \n",
            "                                                                 \n",
            " time_distributed_7 (TimeDis  (None, 15, 30, 30, 64)   256       \n",
            " tributed)                                                       \n",
            "                                                                 \n",
            " time_distributed_8 (TimeDis  (None, 15, 15, 15, 64)   0         \n",
            " tributed)                                                       \n",
            "                                                                 \n",
            " time_distributed_9 (TimeDis  (None, 15, 15, 15, 128)  73856     \n",
            " tributed)                                                       \n",
            "                                                                 \n",
            " time_distributed_10 (TimeDi  (None, 15, 15, 15, 128)  512       \n",
            " stributed)                                                      \n",
            "                                                                 \n",
            " time_distributed_11 (TimeDi  (None, 15, 7, 7, 128)    0         \n",
            " stributed)                                                      \n",
            "                                                                 \n",
            " time_distributed_12 (TimeDi  (None, 15, 7, 7, 256)    295168    \n",
            " stributed)                                                      \n",
            "                                                                 \n",
            " time_distributed_13 (TimeDi  (None, 15, 7, 7, 256)    1024      \n",
            " stributed)                                                      \n",
            "                                                                 \n",
            " time_distributed_14 (TimeDi  (None, 15, 3, 3, 256)    0         \n",
            " stributed)                                                      \n",
            "                                                                 \n",
            " time_distributed_15 (TimeDi  (None, 15, 2304)         0         \n",
            " stributed)                                                      \n",
            "                                                                 \n",
            " lstm (LSTM)                 (None, 128)               1245696   \n",
            "                                                                 \n",
            " dropout (Dropout)           (None, 128)               0         \n",
            "                                                                 \n",
            " dense (Dense)               (None, 128)               16512     \n",
            "                                                                 \n",
            " dropout_1 (Dropout)         (None, 128)               0         \n",
            "                                                                 \n",
            " dense_1 (Dense)             (None, 5)                 645       \n",
            "                                                                 \n",
            "=================================================================\n",
            "Total params: 1,657,445\n",
            "Trainable params: 1,656,453\n",
            "Non-trainable params: 992\n",
            "_________________________________________________________________\n",
            "None\n"
          ]
        }
      ],
      "source": [
        "# optimiser = tf.keras.optimizers.Adam() #write your optimizer\n",
        "# model.compile(optimizer=optimiser, loss='categorical_crossentropy', metrics=['categorical_accuracy'])\n",
        "# print (model.summary())"
      ]
    },
    {
      "cell_type": "markdown",
      "metadata": {
        "id": "ggp70Iyb33KM"
      },
      "source": [
        "Let us create the `train_generator` and the `val_generator` which will be used in `.fit_generator`."
      ]
    },
    {
      "cell_type": "code",
      "execution_count": null,
      "metadata": {
        "id": "00Ty82Vi33KN"
      },
      "outputs": [],
      "source": [
        "# train_generator = generator(train_path, train_doc, batch_size)\n",
        "# val_generator = generator(val_path, val_doc, batch_size)"
      ]
    },
    {
      "cell_type": "code",
      "execution_count": null,
      "metadata": {
        "colab": {
          "base_uri": "https://localhost:8080/"
        },
        "id": "xvLC5n4q33KN",
        "outputId": "5c5d0962-5dca-450f-8550-124e47ded929"
      },
      "outputs": [
        {
          "name": "stderr",
          "output_type": "stream",
          "text": [
            "WARNING:tensorflow:`period` argument is deprecated. Please use `save_freq` to specify the frequency in number of batches seen.\n",
            "WARNING:tensorflow:`epsilon` argument is deprecated and will be removed, use `min_delta` instead.\n"
          ]
        }
      ],
      "source": [
        "# model_name = 'model_init_exp2' + '_' + str(curr_dt_time).replace(' ','').replace(':','_') + '/'\n",
        "    \n",
        "# if not os.path.exists(model_name):\n",
        "#     os.mkdir(model_name)\n",
        "        \n",
        "# filepath = model_name + 'model-{epoch:05d}-{loss:.5f}-{categorical_accuracy:.5f}-{val_loss:.5f}-{val_categorical_accuracy:.5f}.h5'\n",
        "\n",
        "# checkpoint = ModelCheckpoint(filepath, monitor='val_loss', verbose=1, save_best_only=False, save_weights_only=False, mode='auto', period=1)\n",
        "# # ModelCheckpoint - saves weight and model after every epoch\n",
        "# LR = ReduceLROnPlateau(monitor='val_loss', factor=0.5, patience=2, verbose=1,\n",
        "#                       mode=\"min\", epsilon=0.0001,\n",
        "#                       cooldown=0, min_lr=0.00001) # write the REducelronplateau code here\n",
        "# callbacks_list = [checkpoint, LR]"
      ]
    },
    {
      "cell_type": "markdown",
      "metadata": {
        "id": "ZwXfueb_33KN"
      },
      "source": [
        "The `steps_per_epoch` and `validation_steps` are used by `fit_generator` to decide the number of next() calls it need to make."
      ]
    },
    {
      "cell_type": "code",
      "execution_count": null,
      "metadata": {
        "id": "JOdu55Ku33KN"
      },
      "outputs": [],
      "source": [
        "\n",
        "# if (num_train_sequences%batch_size) == 0:\n",
        "#     steps_per_epoch = int(num_train_sequences/batch_size)\n",
        "# else:\n",
        "#     steps_per_epoch = (num_train_sequences//batch_size) + 1\n",
        "# if (num_val_sequences%batch_size) == 0:\n",
        "#     validation_steps = int(num_val_sequences/batch_size)\n",
        "# else:\n",
        "#     validation_steps = (num_val_sequences//batch_size) + 1"
      ]
    },
    {
      "cell_type": "markdown",
      "metadata": {
        "id": "gq9RyU5n33KO"
      },
      "source": [
        "Let us now fit the model. This will start training the model and with the help of the checkpoints, you'll be able to save the model at the end of each epoch."
      ]
    },
    {
      "cell_type": "code",
      "execution_count": null,
      "metadata": {
        "colab": {
          "base_uri": "https://localhost:8080/"
        },
        "id": "YacHyoIR33KO",
        "outputId": "c1278a19-5df8-4fb1-d07e-7ffdc145ef8f",
        "scrolled": false
      },
      "outputs": [
        {
          "name": "stderr",
          "output_type": "stream",
          "text": [
            "/usr/local/lib/python3.7/dist-packages/ipykernel_launcher.py:3: UserWarning: `Model.fit_generator` is deprecated and will be removed in a future version. Please use `Model.fit`, which supports generators.\n",
            "  This is separate from the ipykernel package so we can avoid doing imports until\n"
          ]
        },
        {
          "name": "stdout",
          "output_type": "stream",
          "text": [
            "Source path =  /content/Project_data/train ; batch size = 8\n",
            "Epoch 1/30\n",
            "83/83 [==============================] - ETA: 0s - loss: 1.3877 - categorical_accuracy: 0.3816Source path =  /content/Project_data/val ; batch size = 8\n",
            "\n",
            "Epoch 1: saving model to model_init_exp2_2022-08-1215_43_48.191700/model-00001-1.38769-0.38160-1.64901-0.28000.h5\n",
            "83/83 [==============================] - 150s 2s/step - loss: 1.3877 - categorical_accuracy: 0.3816 - val_loss: 1.6490 - val_categorical_accuracy: 0.2800 - lr: 0.0010\n",
            "Epoch 2/30\n",
            "83/83 [==============================] - ETA: 0s - loss: 1.2595 - categorical_accuracy: 0.4320\n",
            "Epoch 2: saving model to model_init_exp2_2022-08-1215_43_48.191700/model-00002-1.25945-0.43201-1.37199-0.42308.h5\n",
            "83/83 [==============================] - 107s 1s/step - loss: 1.2595 - categorical_accuracy: 0.4320 - val_loss: 1.3720 - val_categorical_accuracy: 0.4231 - lr: 0.0010\n",
            "Epoch 3/30\n",
            "83/83 [==============================] - ETA: 0s - loss: 1.2948 - categorical_accuracy: 0.4410\n",
            "Epoch 3: saving model to model_init_exp2_2022-08-1215_43_48.191700/model-00003-1.29483-0.44098-1.56655-0.19231.h5\n",
            "83/83 [==============================] - 81s 986ms/step - loss: 1.2948 - categorical_accuracy: 0.4410 - val_loss: 1.5666 - val_categorical_accuracy: 0.1923 - lr: 0.0010\n",
            "Epoch 4/30\n",
            "83/83 [==============================] - ETA: 0s - loss: 1.3806 - categorical_accuracy: 0.3683\n",
            "Epoch 4: saving model to model_init_exp2_2022-08-1215_43_48.191700/model-00004-1.38056-0.36829-1.74610-0.23077.h5\n",
            "\n",
            "Epoch 4: ReduceLROnPlateau reducing learning rate to 0.0005000000237487257.\n",
            "83/83 [==============================] - 82s 1000ms/step - loss: 1.3806 - categorical_accuracy: 0.3683 - val_loss: 1.7461 - val_categorical_accuracy: 0.2308 - lr: 0.0010\n",
            "Epoch 5/30\n",
            "83/83 [==============================] - ETA: 0s - loss: 1.3098 - categorical_accuracy: 0.4418\n",
            "Epoch 5: saving model to model_init_exp2_2022-08-1215_43_48.191700/model-00005-1.30983-0.44177-1.45407-0.40385.h5\n",
            "83/83 [==============================] - 52s 639ms/step - loss: 1.3098 - categorical_accuracy: 0.4418 - val_loss: 1.4541 - val_categorical_accuracy: 0.4038 - lr: 5.0000e-04\n",
            "Epoch 6/30\n",
            "83/83 [==============================] - ETA: 0s - loss: 1.3835 - categorical_accuracy: 0.3896\n",
            "Epoch 6: saving model to model_init_exp2_2022-08-1215_43_48.191700/model-00006-1.38345-0.38956-1.24176-0.48077.h5\n",
            "83/83 [==============================] - 52s 636ms/step - loss: 1.3835 - categorical_accuracy: 0.3896 - val_loss: 1.2418 - val_categorical_accuracy: 0.4808 - lr: 5.0000e-04\n",
            "Epoch 7/30\n",
            "83/83 [==============================] - ETA: 0s - loss: 1.2439 - categorical_accuracy: 0.4578\n",
            "Epoch 7: saving model to model_init_exp2_2022-08-1215_43_48.191700/model-00007-1.24386-0.45783-0.95625-0.63462.h5\n",
            "83/83 [==============================] - 54s 656ms/step - loss: 1.2439 - categorical_accuracy: 0.4578 - val_loss: 0.9563 - val_categorical_accuracy: 0.6346 - lr: 5.0000e-04\n",
            "Epoch 8/30\n",
            "83/83 [==============================] - ETA: 0s - loss: 1.1904 - categorical_accuracy: 0.4498\n",
            "Epoch 8: saving model to model_init_exp2_2022-08-1215_43_48.191700/model-00008-1.19041-0.44980-1.18014-0.46154.h5\n",
            "83/83 [==============================] - 58s 710ms/step - loss: 1.1904 - categorical_accuracy: 0.4498 - val_loss: 1.1801 - val_categorical_accuracy: 0.4615 - lr: 5.0000e-04\n",
            "Epoch 9/30\n",
            "83/83 [==============================] - ETA: 0s - loss: 1.3091 - categorical_accuracy: 0.4659\n",
            "Epoch 9: saving model to model_init_exp2_2022-08-1215_43_48.191700/model-00009-1.30914-0.46586-1.28578-0.46154.h5\n",
            "\n",
            "Epoch 9: ReduceLROnPlateau reducing learning rate to 0.0002500000118743628.\n",
            "83/83 [==============================] - 51s 626ms/step - loss: 1.3091 - categorical_accuracy: 0.4659 - val_loss: 1.2858 - val_categorical_accuracy: 0.4615 - lr: 5.0000e-04\n",
            "Epoch 10/30\n",
            "83/83 [==============================] - ETA: 0s - loss: 1.1880 - categorical_accuracy: 0.5462\n",
            "Epoch 10: saving model to model_init_exp2_2022-08-1215_43_48.191700/model-00010-1.18802-0.54618-1.30114-0.51923.h5\n",
            "83/83 [==============================] - 49s 600ms/step - loss: 1.1880 - categorical_accuracy: 0.5462 - val_loss: 1.3011 - val_categorical_accuracy: 0.5192 - lr: 2.5000e-04\n",
            "Epoch 11/30\n",
            "83/83 [==============================] - ETA: 0s - loss: 1.2023 - categorical_accuracy: 0.4578\n",
            "Epoch 11: saving model to model_init_exp2_2022-08-1215_43_48.191700/model-00011-1.20227-0.45783-1.22822-0.50000.h5\n",
            "\n",
            "Epoch 11: ReduceLROnPlateau reducing learning rate to 0.0001250000059371814.\n",
            "83/83 [==============================] - 55s 674ms/step - loss: 1.2023 - categorical_accuracy: 0.4578 - val_loss: 1.2282 - val_categorical_accuracy: 0.5000 - lr: 2.5000e-04\n",
            "Epoch 12/30\n",
            "83/83 [==============================] - ETA: 0s - loss: 1.1265 - categorical_accuracy: 0.5904\n",
            "Epoch 12: saving model to model_init_exp2_2022-08-1215_43_48.191700/model-00012-1.12648-0.59036-1.06839-0.57692.h5\n",
            "83/83 [==============================] - 56s 681ms/step - loss: 1.1265 - categorical_accuracy: 0.5904 - val_loss: 1.0684 - val_categorical_accuracy: 0.5769 - lr: 1.2500e-04\n",
            "Epoch 13/30\n",
            "83/83 [==============================] - ETA: 0s - loss: 1.0565 - categorical_accuracy: 0.5944\n",
            "Epoch 13: saving model to model_init_exp2_2022-08-1215_43_48.191700/model-00013-1.05650-0.59438-1.07740-0.57692.h5\n",
            "\n",
            "Epoch 13: ReduceLROnPlateau reducing learning rate to 6.25000029685907e-05.\n",
            "83/83 [==============================] - 52s 636ms/step - loss: 1.0565 - categorical_accuracy: 0.5944 - val_loss: 1.0774 - val_categorical_accuracy: 0.5769 - lr: 1.2500e-04\n",
            "Epoch 14/30\n",
            "83/83 [==============================] - ETA: 0s - loss: 1.0931 - categorical_accuracy: 0.5261\n",
            "Epoch 14: saving model to model_init_exp2_2022-08-1215_43_48.191700/model-00014-1.09313-0.52610-0.96393-0.67308.h5\n",
            "83/83 [==============================] - 54s 653ms/step - loss: 1.0931 - categorical_accuracy: 0.5261 - val_loss: 0.9639 - val_categorical_accuracy: 0.6731 - lr: 6.2500e-05\n",
            "Epoch 15/30\n",
            "83/83 [==============================] - ETA: 0s - loss: 1.0532 - categorical_accuracy: 0.5863\n",
            "Epoch 15: saving model to model_init_exp2_2022-08-1215_43_48.191700/model-00015-1.05316-0.58635-1.13131-0.55769.h5\n",
            "\n",
            "Epoch 15: ReduceLROnPlateau reducing learning rate to 3.125000148429535e-05.\n",
            "83/83 [==============================] - 57s 690ms/step - loss: 1.0532 - categorical_accuracy: 0.5863 - val_loss: 1.1313 - val_categorical_accuracy: 0.5577 - lr: 6.2500e-05\n",
            "Epoch 16/30\n",
            "83/83 [==============================] - ETA: 0s - loss: 1.0936 - categorical_accuracy: 0.5422\n",
            "Epoch 16: saving model to model_init_exp2_2022-08-1215_43_48.191700/model-00016-1.09355-0.54217-0.98352-0.57692.h5\n",
            "83/83 [==============================] - 52s 636ms/step - loss: 1.0936 - categorical_accuracy: 0.5422 - val_loss: 0.9835 - val_categorical_accuracy: 0.5769 - lr: 3.1250e-05\n",
            "Epoch 17/30\n",
            "83/83 [==============================] - ETA: 0s - loss: 0.9778 - categorical_accuracy: 0.6145\n",
            "Epoch 17: saving model to model_init_exp2_2022-08-1215_43_48.191700/model-00017-0.97777-0.61446-1.12973-0.50000.h5\n",
            "\n",
            "Epoch 17: ReduceLROnPlateau reducing learning rate to 1.5625000742147677e-05.\n",
            "83/83 [==============================] - 52s 632ms/step - loss: 0.9778 - categorical_accuracy: 0.6145 - val_loss: 1.1297 - val_categorical_accuracy: 0.5000 - lr: 3.1250e-05\n",
            "Epoch 18/30\n",
            "83/83 [==============================] - ETA: 0s - loss: 1.0703 - categorical_accuracy: 0.5382\n",
            "Epoch 18: saving model to model_init_exp2_2022-08-1215_43_48.191700/model-00018-1.07027-0.53815-1.14243-0.46154.h5\n",
            "83/83 [==============================] - 51s 619ms/step - loss: 1.0703 - categorical_accuracy: 0.5382 - val_loss: 1.1424 - val_categorical_accuracy: 0.4615 - lr: 1.5625e-05\n",
            "Epoch 19/30\n",
            "83/83 [==============================] - ETA: 0s - loss: 1.0346 - categorical_accuracy: 0.6265\n",
            "Epoch 19: saving model to model_init_exp2_2022-08-1215_43_48.191700/model-00019-1.03461-0.62651-1.00371-0.63462.h5\n",
            "\n",
            "Epoch 19: ReduceLROnPlateau reducing learning rate to 1e-05.\n",
            "83/83 [==============================] - 53s 647ms/step - loss: 1.0346 - categorical_accuracy: 0.6265 - val_loss: 1.0037 - val_categorical_accuracy: 0.6346 - lr: 1.5625e-05\n",
            "Epoch 20/30\n",
            "83/83 [==============================] - ETA: 0s - loss: 1.0387 - categorical_accuracy: 0.5863\n",
            "Epoch 20: saving model to model_init_exp2_2022-08-1215_43_48.191700/model-00020-1.03868-0.58635-0.98975-0.57692.h5\n",
            "83/83 [==============================] - 54s 655ms/step - loss: 1.0387 - categorical_accuracy: 0.5863 - val_loss: 0.9897 - val_categorical_accuracy: 0.5769 - lr: 1.0000e-05\n",
            "Epoch 21/30\n",
            "83/83 [==============================] - ETA: 0s - loss: 0.9449 - categorical_accuracy: 0.6265\n",
            "Epoch 21: saving model to model_init_exp2_2022-08-1215_43_48.191700/model-00021-0.94488-0.62651-1.07464-0.55769.h5\n",
            "83/83 [==============================] - 53s 648ms/step - loss: 0.9449 - categorical_accuracy: 0.6265 - val_loss: 1.0746 - val_categorical_accuracy: 0.5577 - lr: 1.0000e-05\n",
            "Epoch 22/30\n",
            "83/83 [==============================] - ETA: 0s - loss: 0.9822 - categorical_accuracy: 0.6024\n",
            "Epoch 22: saving model to model_init_exp2_2022-08-1215_43_48.191700/model-00022-0.98216-0.60241-1.05757-0.59615.h5\n",
            "83/83 [==============================] - 56s 678ms/step - loss: 0.9822 - categorical_accuracy: 0.6024 - val_loss: 1.0576 - val_categorical_accuracy: 0.5962 - lr: 1.0000e-05\n",
            "Epoch 23/30\n",
            "83/83 [==============================] - ETA: 0s - loss: 1.0164 - categorical_accuracy: 0.5944\n",
            "Epoch 23: saving model to model_init_exp2_2022-08-1215_43_48.191700/model-00023-1.01640-0.59438-1.15872-0.44231.h5\n",
            "83/83 [==============================] - 53s 646ms/step - loss: 1.0164 - categorical_accuracy: 0.5944 - val_loss: 1.1587 - val_categorical_accuracy: 0.4423 - lr: 1.0000e-05\n",
            "Epoch 24/30\n",
            "83/83 [==============================] - ETA: 0s - loss: 1.0648 - categorical_accuracy: 0.5904\n",
            "Epoch 24: saving model to model_init_exp2_2022-08-1215_43_48.191700/model-00024-1.06479-0.59036-1.14851-0.50000.h5\n",
            "83/83 [==============================] - 52s 631ms/step - loss: 1.0648 - categorical_accuracy: 0.5904 - val_loss: 1.1485 - val_categorical_accuracy: 0.5000 - lr: 1.0000e-05\n",
            "Epoch 25/30\n",
            "83/83 [==============================] - ETA: 0s - loss: 0.9388 - categorical_accuracy: 0.6426\n",
            "Epoch 25: saving model to model_init_exp2_2022-08-1215_43_48.191700/model-00025-0.93880-0.64257-0.97704-0.61538.h5\n",
            "83/83 [==============================] - 55s 674ms/step - loss: 0.9388 - categorical_accuracy: 0.6426 - val_loss: 0.9770 - val_categorical_accuracy: 0.6154 - lr: 1.0000e-05\n",
            "Epoch 26/30\n",
            "83/83 [==============================] - ETA: 0s - loss: 1.0379 - categorical_accuracy: 0.5944\n",
            "Epoch 26: saving model to model_init_exp2_2022-08-1215_43_48.191700/model-00026-1.03791-0.59438-1.05487-0.55769.h5\n",
            "83/83 [==============================] - 54s 657ms/step - loss: 1.0379 - categorical_accuracy: 0.5944 - val_loss: 1.0549 - val_categorical_accuracy: 0.5577 - lr: 1.0000e-05\n",
            "Epoch 27/30\n",
            "83/83 [==============================] - ETA: 0s - loss: 0.9792 - categorical_accuracy: 0.6064\n",
            "Epoch 27: saving model to model_init_exp2_2022-08-1215_43_48.191700/model-00027-0.97920-0.60643-1.03470-0.55769.h5\n",
            "83/83 [==============================] - 54s 653ms/step - loss: 0.9792 - categorical_accuracy: 0.6064 - val_loss: 1.0347 - val_categorical_accuracy: 0.5577 - lr: 1.0000e-05\n",
            "Epoch 28/30\n",
            "83/83 [==============================] - ETA: 0s - loss: 0.9945 - categorical_accuracy: 0.5904\n",
            "Epoch 28: saving model to model_init_exp2_2022-08-1215_43_48.191700/model-00028-0.99454-0.59036-1.03852-0.51923.h5\n",
            "83/83 [==============================] - 56s 685ms/step - loss: 0.9945 - categorical_accuracy: 0.5904 - val_loss: 1.0385 - val_categorical_accuracy: 0.5192 - lr: 1.0000e-05\n",
            "Epoch 29/30\n",
            "83/83 [==============================] - ETA: 0s - loss: 0.9752 - categorical_accuracy: 0.6064\n",
            "Epoch 29: saving model to model_init_exp2_2022-08-1215_43_48.191700/model-00029-0.97516-0.60643-0.99236-0.63462.h5\n",
            "83/83 [==============================] - 54s 655ms/step - loss: 0.9752 - categorical_accuracy: 0.6064 - val_loss: 0.9924 - val_categorical_accuracy: 0.6346 - lr: 1.0000e-05\n",
            "Epoch 30/30\n",
            "83/83 [==============================] - ETA: 0s - loss: 0.9976 - categorical_accuracy: 0.6225\n",
            "Epoch 30: saving model to model_init_exp2_2022-08-1215_43_48.191700/model-00030-0.99765-0.62249-1.07852-0.57692.h5\n",
            "83/83 [==============================] - 58s 708ms/step - loss: 0.9976 - categorical_accuracy: 0.6225 - val_loss: 1.0785 - val_categorical_accuracy: 0.5769 - lr: 1.0000e-05\n"
          ]
        }
      ],
      "source": [
        "# metrics2 = model.fit_generator(train_generator, steps_per_epoch=steps_per_epoch, epochs=num_epochs, verbose=1, \n",
        "#                     callbacks=callbacks_list, validation_data=val_generator, \n",
        "#                     validation_steps=validation_steps, class_weight=None, workers=1, initial_epoch=0)"
      ]
    },
    {
      "cell_type": "code",
      "execution_count": null,
      "metadata": {
        "colab": {
          "base_uri": "https://localhost:8080/",
          "height": 334
        },
        "id": "A65PrJ4U33KO",
        "outputId": "d4df10a3-4428-4e56-d292-2c546904fce3"
      },
      "outputs": [
        {
          "data": {
            "text/markdown": [
              "**Training Accuracy:** 0.62%"
            ],
            "text/plain": [
              "<IPython.core.display.Markdown object>"
            ]
          },
          "metadata": {},
          "output_type": "display_data"
        },
        {
          "data": {
            "text/markdown": [
              "**Validation Accuracy:** 0.58%"
            ],
            "text/plain": [
              "<IPython.core.display.Markdown object>"
            ]
          },
          "metadata": {},
          "output_type": "display_data"
        },
        {
          "data": {
            "image/png": "[encoded data removed]",
            "text/plain": [
              "<Figure size 1080x288 with 2 Axes>"
            ]
          },
          "metadata": {
            "needs_background": "light"
          },
          "output_type": "display_data"
        }
      ],
      "source": [
        "# plot_metrics(metrics2)"
      ]
    },
    {
      "cell_type": "markdown",
      "metadata": {
        "id": "OBp6SSaJhpBD"
      },
      "source": [
        "# Model 3:-CNN with GRU with 'ADAM' optimizer"
      ]
    },
    {
      "cell_type": "code",
      "execution_count": null,
      "metadata": {
        "id": "oz8rLMf-z1R2"
      },
      "outputs": [],
      "source": [
        "total_count_frames = 30\n",
        "selected_frames = 16\n",
        "gestures = 5\n",
        "image_height = 120\n",
        "image_width = 120\n",
        "img_idx = np.round(np.linspace(0, total_count_frames-1, selected_frames)).astype(int)"
      ]
    },
    {
      "cell_type": "code",
      "execution_count": null,
      "metadata": {
        "id": "Ys20B3vgjxct"
      },
      "outputs": [],
      "source": [
        "train_doc = np.random.permutation(open('/content/Project_data/train.csv').readlines())\n",
        "val_doc = np.random.permutation(open('/content/Project_data/val.csv').readlines())\n",
        "batch_size = 20"
      ]
    },
    {
      "cell_type": "code",
      "execution_count": null,
      "metadata": {
        "colab": {
          "base_uri": "https://localhost:8080/"
        },
        "id": "tNuiypGd2_XZ",
        "outputId": "c95c022c-439a-4e96-aaf1-f064e40d9a72"
      },
      "outputs": [
        {
          "name": "stdout",
          "output_type": "stream",
          "text": [
            "# training sequences = 663\n",
            "# validation sequences = 100\n",
            "# epochs = 20\n"
          ]
        }
      ],
      "source": [
        "# curr_dt_time = datetime.datetime.now()\n",
        "# train_path = '/content/Project_data/train'\n",
        "# val_path = '/content/Project_data/val'\n",
        "# num_train_sequences = len(train_doc) # 663\n",
        "# print('# training sequences =', num_train_sequences)\n",
        "# num_val_sequences = len(val_doc) # 100\n",
        "# print('# validation sequences =', num_val_sequences)\n",
        "# num_epochs = 20\n",
        "# print ('# epochs =', num_epochs)"
      ]
    },
    {
      "cell_type": "code",
      "execution_count": null,
      "metadata": {
        "id": "t9eA2XMTj0sZ"
      },
      "outputs": [],
      "source": [
        "# from keras.models import Sequential, Model\n",
        "# from keras.layers import Conv2D,MaxPooling2D\n",
        "# from keras.layers import Dense, GRU, Flatten, TimeDistributed, Flatten, BatchNormalization, Activation\n",
        "# from keras.layers.convolutional import Conv3D, MaxPooling3D\n",
        "# from keras.callbacks import ModelCheckpoint, ReduceLROnPlateau\n",
        "# from keras import optimizers\n",
        "# from keras.layers import Dense, GRU, Flatten, TimeDistributed, Flatten, BatchNormalization, Activation, Dropout, LSTM, Bidirectional\n",
        "\n",
        "\n",
        "# model = Sequential()\n",
        "# model.add(TimeDistributed(Conv2D(16, (3, 3) , padding='same', activation='relu'),\n",
        "#                                   input_shape=(len(img_idx), image_height, image_width, 3)))\n",
        "# model.add(TimeDistributed(BatchNormalization()))\n",
        "# model.add(TimeDistributed(MaxPooling2D((2, 2))))\n",
        "\n",
        "# model.add(TimeDistributed(Conv2D(32, (3, 3) , padding='same', activation='relu')))\n",
        "# model.add(TimeDistributed(BatchNormalization()))\n",
        "# model.add(TimeDistributed(MaxPooling2D((2, 2))))\n",
        " \n",
        "# model.add(TimeDistributed(Conv2D(64, (3,3), padding='same', activation='relu')))\n",
        "# model.add(TimeDistributed(BatchNormalization()))\n",
        "# model.add(TimeDistributed(MaxPooling2D((2, 2))))\n",
        " \n",
        "# model.add(TimeDistributed(Conv2D(128, (3,3), padding='same', activation='relu')))\n",
        "# model.add(TimeDistributed(BatchNormalization()))\n",
        "# model.add(TimeDistributed(MaxPooling2D((2, 2))))\n",
        " \n",
        "# model.add(TimeDistributed(Flatten()))\n",
        "\n",
        "# model.add(GRU(128))\n",
        "# model.add(Dropout(0.25))\n",
        " \n",
        "# model.add(Dense(128,activation='relu'))\n",
        "# model.add(Dropout(0.25))\n",
        "        \n",
        "# model.add(Dense(5, activation='softmax'))\n"
      ]
    },
    {
      "cell_type": "code",
      "execution_count": null,
      "metadata": {
        "id": "IzNj-9JWpQQA"
      },
      "outputs": [],
      "source": [
        ""
      ]
    },
    {
      "cell_type": "code",
      "execution_count": null,
      "metadata": {
        "id": "Fe97fnjuj0pc"
      },
      "outputs": [],
      "source": [
        "# train_generator = generator(train_path, train_doc, batch_size)\n",
        "# val_generator = generator(val_path, val_doc, batch_size)"
      ]
    },
    {
      "cell_type": "code",
      "execution_count": null,
      "metadata": {
        "colab": {
          "base_uri": "https://localhost:8080/"
        },
        "id": "SJLiljvIj0j5",
        "outputId": "6346b19a-b782-422f-9802-ede5a66aca2c"
      },
      "outputs": [
        {
          "name": "stderr",
          "output_type": "stream",
          "text": [
            "WARNING:tensorflow:`period` argument is deprecated. Please use `save_freq` to specify the frequency in number of batches seen.\n",
            "WARNING:tensorflow:`epsilon` argument is deprecated and will be removed, use `min_delta` instead.\n"
          ]
        }
      ],
      "source": [
        "# model_name = 'model_init_exp3' + '_' + str(curr_dt_time).replace(' ','').replace(':','_') + '/'\n",
        "    \n",
        "# if not os.path.exists(model_name):\n",
        "#     os.mkdir(model_name)\n",
        "        \n",
        "# filepath = model_name + 'model-{epoch:05d}-{loss:.5f}-{categorical_accuracy:.5f}-{val_loss:.5f}-{val_categorical_accuracy:.5f}.h5'\n",
        "\n",
        "# checkpoint = ModelCheckpoint(filepath, monitor='val_loss', verbose=1, save_best_only=False, save_weights_only=False, mode='auto', period=1)\n",
        "# # ModelCheckpoint - saves weight and model after every epoch\n",
        "# LR = ReduceLROnPlateau(monitor='val_loss', factor=0.5, patience=2, verbose=1,\n",
        "#                       mode=\"min\", epsilon=0.0001,\n",
        "#                       cooldown=0, min_lr=0.00001) \n",
        "# callbacks_list = [checkpoint, LR]"
      ]
    },
    {
      "cell_type": "code",
      "execution_count": null,
      "metadata": {
        "id": "CYYee4tZj0fS"
      },
      "outputs": [],
      "source": [
        "# if (num_train_sequences%batch_size) == 0:\n",
        "#     steps_per_epoch = int(num_train_sequences/batch_size)\n",
        "# else:\n",
        "#     steps_per_epoch = (num_train_sequences//batch_size) + 1\n",
        "# if (num_val_sequences%batch_size) == 0:\n",
        "#     validation_steps = int(num_val_sequences/batch_size)\n",
        "# else:\n",
        "#     validation_steps = (num_val_sequences//batch_size) + 1"
      ]
    },
    {
      "cell_type": "code",
      "execution_count": null,
      "metadata": {
        "colab": {
          "base_uri": "https://localhost:8080/"
        },
        "id": "80RaZT9fj0V-",
        "outputId": "2a418a12-1894-413b-a829-c9abd486bae3",
        "scrolled": false
      },
      "outputs": [
        {
          "name": "stderr",
          "output_type": "stream",
          "text": [
            "/usr/local/lib/python3.7/dist-packages/ipykernel_launcher.py:3: UserWarning: `Model.fit_generator` is deprecated and will be removed in a future version. Please use `Model.fit`, which supports generators.\n",
            "  This is separate from the ipykernel package so we can avoid doing imports until\n"
          ]
        },
        {
          "name": "stdout",
          "output_type": "stream",
          "text": [
            "Source path =  /content/Project_data/train ; batch size = 20\n",
            "Epoch 1/20\n",
            "34/34 [==============================] - ETA: 0s - loss: 1.4406 - categorical_accuracy: 0.3575Source path =  /content/Project_data/val ; batch size = 20\n",
            "\n",
            "Epoch 1: saving model to model_init_exp3_2022-08-1216_21_58.067637/model-00001-1.44063-0.35747-2.58562-0.23000.h5\n",
            "34/34 [==============================] - 147s 4s/step - loss: 1.4406 - categorical_accuracy: 0.3575 - val_loss: 2.5856 - val_categorical_accuracy: 0.2300 - lr: 2.0000e-04\n",
            "Epoch 2/20\n",
            "34/34 [==============================] - ETA: 0s - loss: 1.1882 - categorical_accuracy: 0.5686\n",
            "Epoch 2: saving model to model_init_exp3_2022-08-1216_21_58.067637/model-00002-1.18823-0.56863-1.98792-0.21000.h5\n",
            "34/34 [==============================] - 38s 1s/step - loss: 1.1882 - categorical_accuracy: 0.5686 - val_loss: 1.9879 - val_categorical_accuracy: 0.2100 - lr: 2.0000e-04\n",
            "Epoch 3/20\n",
            "34/34 [==============================] - ETA: 0s - loss: 1.3821 - categorical_accuracy: 0.3824\n",
            "Epoch 3: saving model to model_init_exp3_2022-08-1216_21_58.067637/model-00003-1.38209-0.38235-1.46255-0.36000.h5\n",
            "34/34 [==============================] - 45s 1s/step - loss: 1.3821 - categorical_accuracy: 0.3824 - val_loss: 1.4626 - val_categorical_accuracy: 0.3600 - lr: 2.0000e-04\n",
            "Epoch 4/20\n",
            "34/34 [==============================] - ETA: 0s - loss: 1.2636 - categorical_accuracy: 0.4902\n",
            "Epoch 4: saving model to model_init_exp3_2022-08-1216_21_58.067637/model-00004-1.26355-0.49020-1.21021-0.52000.h5\n",
            "34/34 [==============================] - 45s 1s/step - loss: 1.2636 - categorical_accuracy: 0.4902 - val_loss: 1.2102 - val_categorical_accuracy: 0.5200 - lr: 2.0000e-04\n",
            "Epoch 5/20\n",
            "34/34 [==============================] - ETA: 0s - loss: 1.3358 - categorical_accuracy: 0.4706\n",
            "Epoch 5: saving model to model_init_exp3_2022-08-1216_21_58.067637/model-00005-1.33579-0.47059-1.29231-0.40000.h5\n",
            "34/34 [==============================] - 39s 1s/step - loss: 1.3358 - categorical_accuracy: 0.4706 - val_loss: 1.2923 - val_categorical_accuracy: 0.4000 - lr: 2.0000e-04\n",
            "Epoch 6/20\n",
            "34/34 [==============================] - ETA: 0s - loss: 1.3163 - categorical_accuracy: 0.4314\n",
            "Epoch 6: saving model to model_init_exp3_2022-08-1216_21_58.067637/model-00006-1.31635-0.43137-1.25158-0.46000.h5\n",
            "\n",
            "Epoch 6: ReduceLROnPlateau reducing learning rate to 9.999999747378752e-05.\n",
            "34/34 [==============================] - 63s 2s/step - loss: 1.3163 - categorical_accuracy: 0.4314 - val_loss: 1.2516 - val_categorical_accuracy: 0.4600 - lr: 2.0000e-04\n",
            "Epoch 7/20\n",
            "34/34 [==============================] - ETA: 0s - loss: 1.1436 - categorical_accuracy: 0.5588\n",
            "Epoch 7: saving model to model_init_exp3_2022-08-1216_21_58.067637/model-00007-1.14364-0.55882-1.09933-0.46000.h5\n",
            "34/34 [==============================] - 41s 1s/step - loss: 1.1436 - categorical_accuracy: 0.5588 - val_loss: 1.0993 - val_categorical_accuracy: 0.4600 - lr: 1.0000e-04\n",
            "Epoch 8/20\n",
            "34/34 [==============================] - ETA: 0s - loss: 1.0669 - categorical_accuracy: 0.5784\n",
            "Epoch 8: saving model to model_init_exp3_2022-08-1216_21_58.067637/model-00008-1.06686-0.57843-1.06278-0.50000.h5\n",
            "34/34 [==============================] - 44s 1s/step - loss: 1.0669 - categorical_accuracy: 0.5784 - val_loss: 1.0628 - val_categorical_accuracy: 0.5000 - lr: 1.0000e-04\n",
            "Epoch 9/20\n",
            "34/34 [==============================] - ETA: 0s - loss: 1.0106 - categorical_accuracy: 0.5588\n",
            "Epoch 9: saving model to model_init_exp3_2022-08-1216_21_58.067637/model-00009-1.01055-0.55882-0.90950-0.57000.h5\n",
            "34/34 [==============================] - 43s 1s/step - loss: 1.0106 - categorical_accuracy: 0.5588 - val_loss: 0.9095 - val_categorical_accuracy: 0.5700 - lr: 1.0000e-04\n",
            "Epoch 10/20\n",
            "34/34 [==============================] - ETA: 0s - loss: 0.9684 - categorical_accuracy: 0.6275\n",
            "Epoch 10: saving model to model_init_exp3_2022-08-1216_21_58.067637/model-00010-0.96843-0.62745-1.00488-0.56000.h5\n",
            "34/34 [==============================] - 43s 1s/step - loss: 0.9684 - categorical_accuracy: 0.6275 - val_loss: 1.0049 - val_categorical_accuracy: 0.5600 - lr: 1.0000e-04\n",
            "Epoch 11/20\n",
            "34/34 [==============================] - ETA: 0s - loss: 0.9652 - categorical_accuracy: 0.5686\n",
            "Epoch 11: saving model to model_init_exp3_2022-08-1216_21_58.067637/model-00011-0.96520-0.56863-0.92244-0.65000.h5\n",
            "\n",
            "Epoch 11: ReduceLROnPlateau reducing learning rate to 4.999999873689376e-05.\n",
            "34/34 [==============================] - 45s 1s/step - loss: 0.9652 - categorical_accuracy: 0.5686 - val_loss: 0.9224 - val_categorical_accuracy: 0.6500 - lr: 1.0000e-04\n",
            "Epoch 12/20\n",
            "34/34 [==============================] - ETA: 0s - loss: 0.9797 - categorical_accuracy: 0.6176\n",
            "Epoch 12: saving model to model_init_exp3_2022-08-1216_21_58.067637/model-00012-0.97973-0.61765-0.91059-0.66000.h5\n",
            "34/34 [==============================] - 41s 1s/step - loss: 0.9797 - categorical_accuracy: 0.6176 - val_loss: 0.9106 - val_categorical_accuracy: 0.6600 - lr: 5.0000e-05\n",
            "Epoch 13/20\n",
            "34/34 [==============================] - ETA: 0s - loss: 0.9475 - categorical_accuracy: 0.6176\n",
            "Epoch 13: saving model to model_init_exp3_2022-08-1216_21_58.067637/model-00013-0.94752-0.61765-0.88415-0.69000.h5\n",
            "34/34 [==============================] - 42s 1s/step - loss: 0.9475 - categorical_accuracy: 0.6176 - val_loss: 0.8841 - val_categorical_accuracy: 0.6900 - lr: 5.0000e-05\n",
            "Epoch 14/20\n",
            "34/34 [==============================] - ETA: 0s - loss: 0.9572 - categorical_accuracy: 0.5686\n",
            "Epoch 14: saving model to model_init_exp3_2022-08-1216_21_58.067637/model-00014-0.95717-0.56863-0.87361-0.62000.h5\n",
            "34/34 [==============================] - 42s 1s/step - loss: 0.9572 - categorical_accuracy: 0.5686 - val_loss: 0.8736 - val_categorical_accuracy: 0.6200 - lr: 5.0000e-05\n",
            "Epoch 15/20\n",
            "34/34 [==============================] - ETA: 0s - loss: 0.6736 - categorical_accuracy: 0.7647\n",
            "Epoch 15: saving model to model_init_exp3_2022-08-1216_21_58.067637/model-00015-0.67364-0.76471-0.79746-0.68000.h5\n",
            "34/34 [==============================] - 44s 1s/step - loss: 0.6736 - categorical_accuracy: 0.7647 - val_loss: 0.7975 - val_categorical_accuracy: 0.6800 - lr: 5.0000e-05\n",
            "Epoch 16/20\n",
            "34/34 [==============================] - ETA: 0s - loss: 0.8368 - categorical_accuracy: 0.6569\n",
            "Epoch 16: saving model to model_init_exp3_2022-08-1216_21_58.067637/model-00016-0.83685-0.65686-0.83935-0.72000.h5\n",
            "34/34 [==============================] - 39s 1s/step - loss: 0.8368 - categorical_accuracy: 0.6569 - val_loss: 0.8394 - val_categorical_accuracy: 0.7200 - lr: 5.0000e-05\n",
            "Epoch 17/20\n",
            "34/34 [==============================] - ETA: 0s - loss: 0.7402 - categorical_accuracy: 0.6961\n",
            "Epoch 17: saving model to model_init_exp3_2022-08-1216_21_58.067637/model-00017-0.74019-0.69608-0.85781-0.61000.h5\n",
            "\n",
            "Epoch 17: ReduceLROnPlateau reducing learning rate to 2.499999936844688e-05.\n",
            "34/34 [==============================] - 44s 1s/step - loss: 0.7402 - categorical_accuracy: 0.6961 - val_loss: 0.8578 - val_categorical_accuracy: 0.6100 - lr: 5.0000e-05\n",
            "Epoch 18/20\n",
            "34/34 [==============================] - ETA: 0s - loss: 0.7346 - categorical_accuracy: 0.7353\n",
            "Epoch 18: saving model to model_init_exp3_2022-08-1216_21_58.067637/model-00018-0.73456-0.73529-0.83869-0.68000.h5\n",
            "34/34 [==============================] - 47s 1s/step - loss: 0.7346 - categorical_accuracy: 0.7353 - val_loss: 0.8387 - val_categorical_accuracy: 0.6800 - lr: 2.5000e-05\n",
            "Epoch 19/20\n",
            "34/34 [==============================] - ETA: 0s - loss: 0.8041 - categorical_accuracy: 0.7255\n",
            "Epoch 19: saving model to model_init_exp3_2022-08-1216_21_58.067637/model-00019-0.80412-0.72549-0.82766-0.63000.h5\n",
            "\n",
            "Epoch 19: ReduceLROnPlateau reducing learning rate to 1.249999968422344e-05.\n",
            "34/34 [==============================] - 39s 1s/step - loss: 0.8041 - categorical_accuracy: 0.7255 - val_loss: 0.8277 - val_categorical_accuracy: 0.6300 - lr: 2.5000e-05\n",
            "Epoch 20/20\n",
            "34/34 [==============================] - ETA: 0s - loss: 0.7945 - categorical_accuracy: 0.6765\n",
            "Epoch 20: saving model to model_init_exp3_2022-08-1216_21_58.067637/model-00020-0.79449-0.67647-0.77524-0.69000.h5\n",
            "34/34 [==============================] - 43s 1s/step - loss: 0.7945 - categorical_accuracy: 0.6765 - val_loss: 0.7752 - val_categorical_accuracy: 0.6900 - lr: 1.2500e-05\n"
          ]
        }
      ],
      "source": [
        "# metrics3 = model.fit_generator(train_generator, steps_per_epoch=steps_per_epoch, epochs=num_epochs, verbose=1, \n",
        "#                     callbacks=callbacks_list, validation_data=val_generator, \n",
        "#                     validation_steps=validation_steps, class_weight=None, workers=1, initial_epoch=0)\n",
        "# # /usr/local/lib/python3.7/dist-packages/ipykernel_launcher.py:3: UserWarning: `Model.fit_generator` is deprecated and will be removed in a future version. Please use `Model.fit`, which supports generators."
      ]
    },
    {
      "cell_type": "code",
      "execution_count": null,
      "metadata": {
        "colab": {
          "base_uri": "https://localhost:8080/",
          "height": 334
        },
        "id": "85WZQzqPnn6g",
        "outputId": "70f93964-8d4f-4685-f0d0-45b77b3a88d9"
      },
      "outputs": [
        {
          "data": {
            "text/markdown": [
              "**Training Accuracy:** 0.68%"
            ],
            "text/plain": [
              "<IPython.core.display.Markdown object>"
            ]
          },
          "metadata": {},
          "output_type": "display_data"
        },
        {
          "data": {
            "text/markdown": [
              "**Validation Accuracy:** 0.69%"
            ],
            "text/plain": [
              "<IPython.core.display.Markdown object>"
            ]
          },
          "metadata": {},
          "output_type": "display_data"
        },
        {
          "data": {
            "image/png": "[encoded data removed]",
            "text/plain": [
              "<Figure size 1080x288 with 2 Axes>"
            ]
          },
          "metadata": {
            "needs_background": "light"
          },
          "output_type": "display_data"
        }
      ],
      "source": [
        "# plot_metrics(metrics3)"
      ]
    },
    {
      "cell_type": "markdown",
      "metadata": {
        "id": "UZ9Mll8GrPKV"
      },
      "source": [
        "# Model 4:- CNN RNN with mobilenet"
      ]
    },
    {
      "cell_type": "code",
      "execution_count": null,
      "metadata": {
        "id": "oeuKu6rZ43fa"
      },
      "outputs": [],
      "source": [
        "total_count_frames = 30\n",
        "selected_frames = 16\n",
        "gestures = 5\n",
        "image_height = 120\n",
        "image_width = 120\n",
        "img_idx = np.round(np.linspace(0, total_count_frames-1, selected_frames)).astype(int)"
      ]
    },
    {
      "cell_type": "code",
      "execution_count": null,
      "metadata": {
        "id": "G5G0Vczr43dL"
      },
      "outputs": [],
      "source": [
        "batch_size = 5"
      ]
    },
    {
      "cell_type": "code",
      "execution_count": null,
      "metadata": {
        "colab": {
          "base_uri": "https://localhost:8080/"
        },
        "id": "YNKYFsNkAyQa",
        "outputId": "f40751de-0549-47be-eac3-0ad8d32d8be0"
      },
      "outputs": [
        {
          "name": "stdout",
          "output_type": "stream",
          "text": [
            "# training sequences = 663\n",
            "# validation sequences = 100\n",
            "# epochs = 15\n"
          ]
        }
      ],
      "source": [
        "curr_dt_time = datetime.datetime.now()\n",
        "# train_path = '/content/Project_data/train'\n",
        "# val_path = '/content/Project_data/val'\n",
        "train_path = '/content/drive/MyDrive/DL_Course_Project/Project_data/train'\n",
        "val_path = '/content/drive/MyDrive/DL_Course_Project/Project_data/val'\n",
        "num_train_sequences = len(train_doc) # 663\n",
        "print('# training sequences =', num_train_sequences)\n",
        "num_val_sequences = len(val_doc) # 100\n",
        "print('# validation sequences =', num_val_sequences)\n",
        "num_epochs = 15\n",
        "print ('# epochs =', num_epochs)"
      ]
    },
    {
      "cell_type": "code",
      "execution_count": null,
      "metadata": {
        "colab": {
          "base_uri": "https://localhost:8080/"
        },
        "id": "ChbFAlHg43XP",
        "outputId": "ea2a5999-2f73-43a7-9823-1f1158519913"
      },
      "outputs": [
        {
          "name": "stderr",
          "output_type": "stream",
          "text": [
            "WARNING:tensorflow:`input_shape` is undefined or non-square, or `rows` is not in [128, 160, 192, 224]. Weights for input shape (224, 224) will be loaded as the default.\n"
          ]
        }
      ],
      "source": [
        "mobilenet_transfer = mobilenet.MobileNet(weights='imagenet', include_top=False)\n",
        "        \n",
        "model = Sequential()\n",
        "model.add(TimeDistributed(mobilenet_transfer,input_shape=(len(img_idx), image_height, image_width, 3)))         \n",
        "model.add(TimeDistributed(BatchNormalization()))\n",
        "model.add(TimeDistributed(MaxPooling2D((2, 2))))\n",
        "model.add(TimeDistributed(Flatten()))\n",
        "\n",
        "model.add(GRU(128))\n",
        "model.add(Dropout(0.25))\n",
        "        \n",
        "model.add(Dense(128,activation='relu'))\n",
        "model.add(Dropout(0.25))\n",
        "        \n",
        "model.add(Dense(5, activation='softmax'))"
      ]
    },
    {
      "cell_type": "code",
      "execution_count": null,
      "metadata": {
        "colab": {
          "base_uri": "https://localhost:8080/"
        },
        "id": "m9-uKmbX43Uo",
        "outputId": "9334156c-0bfa-48f9-b5b7-43a1e495c690"
      },
      "outputs": [
        {
          "name": "stdout",
          "output_type": "stream",
          "text": [
            "Model: \"sequential_3\"\n",
            "_________________________________________________________________\n",
            " Layer (type)                Output Shape              Param #   \n",
            "=================================================================\n",
            " time_distributed_6 (TimeDis  (None, 16, 3, 3, 1024)   3228864   \n",
            " tributed)                                                       \n",
            "                                                                 \n",
            " time_distributed_7 (TimeDis  (None, 16, 3, 3, 1024)   4096      \n",
            " tributed)                                                       \n",
            "                                                                 \n",
            " time_distributed_8 (TimeDis  (None, 16, 1, 1, 1024)   0         \n",
            " tributed)                                                       \n",
            "                                                                 \n",
            " time_distributed_9 (TimeDis  (None, 16, 1024)         0         \n",
            " tributed)                                                       \n",
            "                                                                 \n",
            " gru_1 (GRU)                 (None, 128)               443136    \n",
            "                                                                 \n",
            " dropout_2 (Dropout)         (None, 128)               0         \n",
            "                                                                 \n",
            " dense_4 (Dense)             (None, 128)               16512     \n",
            "                                                                 \n",
            " dropout_3 (Dropout)         (None, 128)               0         \n",
            "                                                                 \n",
            " dense_5 (Dense)             (None, 5)                 645       \n",
            "                                                                 \n",
            "=================================================================\n",
            "Total params: 3,693,253\n",
            "Trainable params: 3,669,317\n",
            "Non-trainable params: 23,936\n",
            "_________________________________________________________________\n",
            "None\n"
          ]
        }
      ],
      "source": [
        "optimiser = tf.keras.optimizers.Adam() #write your optimizer\n",
        "model.compile(optimizer=optimiser, loss='categorical_crossentropy', metrics=['categorical_accuracy'])\n",
        "print (model.summary())"
      ]
    },
    {
      "cell_type": "code",
      "execution_count": null,
      "metadata": {
        "id": "UIC4GHB843Ri"
      },
      "outputs": [],
      "source": [
        "train_generator = generator(train_path, train_doc, batch_size)\n",
        "val_generator = generator(val_path, val_doc, batch_size)"
      ]
    },
    {
      "cell_type": "code",
      "execution_count": null,
      "metadata": {
        "colab": {
          "base_uri": "https://localhost:8080/"
        },
        "id": "bk8MHubs43O3",
        "outputId": "c597df7d-8cbf-4192-f4c6-9abe4a6635b4"
      },
      "outputs": [
        {
          "name": "stderr",
          "output_type": "stream",
          "text": [
            "WARNING:tensorflow:`period` argument is deprecated. Please use `save_freq` to specify the frequency in number of batches seen.\n",
            "WARNING:tensorflow:`epsilon` argument is deprecated and will be removed, use `min_delta` instead.\n"
          ]
        }
      ],
      "source": [
        "model_name = 'model_init_exp4' + '_' + str(curr_dt_time).replace(' ','').replace(':','_') + '/'\n",
        "    \n",
        "if not os.path.exists(model_name):\n",
        "    os.mkdir(model_name)\n",
        "        \n",
        "filepath = model_name + 'model-{epoch:05d}-{loss:.5f}-{categorical_accuracy:.5f}-{val_loss:.5f}-{val_categorical_accuracy:.5f}.h5'\n",
        "\n",
        "checkpoint = ModelCheckpoint(filepath, monitor='val_loss', verbose=1, save_best_only=False, save_weights_only=False, mode='auto', period=1)\n",
        "# ModelCheckpoint - saves weight and model after every epoch\n",
        "LR = ReduceLROnPlateau(monitor='val_loss', factor=0.5, patience=2, verbose=1,\n",
        "                      mode=\"min\", epsilon=0.0001,\n",
        "                      cooldown=0, min_lr=0.00001) # write the REducelronplateau code here\n",
        "callbacks_list = [checkpoint, LR]"
      ]
    },
    {
      "cell_type": "code",
      "execution_count": null,
      "metadata": {
        "id": "XR2PyLB643MK"
      },
      "outputs": [],
      "source": [
        "if (num_train_sequences%batch_size) == 0:\n",
        "    steps_per_epoch = int(num_train_sequences/batch_size)\n",
        "else:\n",
        "    steps_per_epoch = (num_train_sequences//batch_size) + 1\n",
        "if (num_val_sequences%batch_size) == 0:\n",
        "    validation_steps = int(num_val_sequences/batch_size)\n",
        "else:\n",
        "    validation_steps = (num_val_sequences//batch_size) + 1"
      ]
    },
    {
      "cell_type": "code",
      "source": [
        "metrics4=model.fit_generator(train_generator, steps_per_epoch=steps_per_epoch, epochs=num_epochs, verbose=1, \n",
        "                    callbacks=callbacks_list, validation_data=val_generator, \n",
        "                    validation_steps=validation_steps, class_weight=None, workers=1, initial_epoch=0)"
      ],
      "metadata": {
        "colab": {
          "base_uri": "https://localhost:8080/"
        },
        "outputId": "d91fb919-993a-4bcc-c5aa-594a4dfa7f53",
        "id": "2gLVfLNeu5O_"
      },
      "execution_count": null,
      "outputs": [
        {
          "output_type": "stream",
          "name": "stderr",
          "text": [
            "/usr/local/lib/python3.7/dist-packages/ipykernel_launcher.py:3: UserWarning: `Model.fit_generator` is deprecated and will be removed in a future version. Please use `Model.fit`, which supports generators.\n",
            "  This is separate from the ipykernel package so we can avoid doing imports until\n"
          ]
        },
        {
          "output_type": "stream",
          "name": "stdout",
          "text": [
            "Source path =  /content/Project_data/train ; batch size = 5\n",
            "Epoch 1/15\n",
            "133/133 [==============================] - ETA: 0s - loss: 1.2584 - categorical_accuracy: 0.4887Source path =  /content/Project_data/val ; batch size = 5\n",
            "\n",
            "Epoch 1: saving model to model_init_exp4_2022-08-1217_06_04.165188/model-00001-1.25841-0.48869-0.76528-0.70000.h5\n",
            "133/133 [==============================] - 152s 1s/step - loss: 1.2584 - categorical_accuracy: 0.4887 - val_loss: 0.7653 - val_categorical_accuracy: 0.7000 - lr: 0.0010\n",
            "Epoch 2/15\n",
            "133/133 [==============================] - ETA: 0s - loss: 1.1103 - categorical_accuracy: 0.5714\n",
            "Epoch 2: saving model to model_init_exp4_2022-08-1217_06_04.165188/model-00002-1.11028-0.57143-0.83575-0.64000.h5\n",
            "133/133 [==============================] - 99s 752ms/step - loss: 1.1103 - categorical_accuracy: 0.5714 - val_loss: 0.8357 - val_categorical_accuracy: 0.6400 - lr: 0.0010\n",
            "Epoch 3/15\n",
            "133/133 [==============================] - ETA: 0s - loss: 0.9612 - categorical_accuracy: 0.6190\n",
            "Epoch 3: saving model to model_init_exp4_2022-08-1217_06_04.165188/model-00003-0.96116-0.61905-0.60495-0.76000.h5\n",
            "133/133 [==============================] - 101s 761ms/step - loss: 0.9612 - categorical_accuracy: 0.6190 - val_loss: 0.6049 - val_categorical_accuracy: 0.7600 - lr: 0.0010\n",
            "Epoch 4/15\n",
            "133/133 [==============================] - ETA: 0s - loss: 0.9381 - categorical_accuracy: 0.6516\n",
            "Epoch 4: saving model to model_init_exp4_2022-08-1217_06_04.165188/model-00004-0.93807-0.65163-0.96184-0.62000.h5\n",
            "133/133 [==============================] - 96s 726ms/step - loss: 0.9381 - categorical_accuracy: 0.6516 - val_loss: 0.9618 - val_categorical_accuracy: 0.6200 - lr: 0.0010\n",
            "Epoch 5/15\n",
            "133/133 [==============================] - ETA: 0s - loss: 0.8339 - categorical_accuracy: 0.6617\n",
            "Epoch 5: saving model to model_init_exp4_2022-08-1217_06_04.165188/model-00005-0.83390-0.66165-0.84050-0.61000.h5\n",
            "\n",
            "Epoch 5: ReduceLROnPlateau reducing learning rate to 0.0005000000237487257.\n",
            "133/133 [==============================] - 92s 697ms/step - loss: 0.8339 - categorical_accuracy: 0.6617 - val_loss: 0.8405 - val_categorical_accuracy: 0.6100 - lr: 0.0010\n",
            "Epoch 6/15\n",
            "133/133 [==============================] - ETA: 0s - loss: 0.6862 - categorical_accuracy: 0.7293\n",
            "Epoch 6: saving model to model_init_exp4_2022-08-1217_06_04.165188/model-00006-0.68615-0.72932-0.42513-0.70000.h5\n",
            "133/133 [==============================] - 100s 757ms/step - loss: 0.6862 - categorical_accuracy: 0.7293 - val_loss: 0.4251 - val_categorical_accuracy: 0.7000 - lr: 5.0000e-04\n",
            "Epoch 7/15\n",
            "133/133 [==============================] - ETA: 0s - loss: 0.4083 - categorical_accuracy: 0.8296\n",
            "Epoch 7: saving model to model_init_exp4_2022-08-1217_06_04.165188/model-00007-0.40826-0.82957-0.35941-0.85000.h5\n",
            "133/133 [==============================] - 95s 718ms/step - loss: 0.4083 - categorical_accuracy: 0.8296 - val_loss: 0.3594 - val_categorical_accuracy: 0.8500 - lr: 5.0000e-04\n",
            "Epoch 8/15\n",
            "133/133 [==============================] - ETA: 0s - loss: 0.4715 - categorical_accuracy: 0.7945\n",
            "Epoch 8: saving model to model_init_exp4_2022-08-1217_06_04.165188/model-00008-0.47147-0.79449-0.36057-0.80000.h5\n",
            "133/133 [==============================] - 102s 773ms/step - loss: 0.4715 - categorical_accuracy: 0.7945 - val_loss: 0.3606 - val_categorical_accuracy: 0.8000 - lr: 5.0000e-04\n",
            "Epoch 9/15\n",
            "133/133 [==============================] - ETA: 0s - loss: 0.4067 - categorical_accuracy: 0.8371\n",
            "Epoch 9: saving model to model_init_exp4_2022-08-1217_06_04.165188/model-00009-0.40674-0.83709-0.31459-0.84000.h5\n",
            "133/133 [==============================] - 97s 736ms/step - loss: 0.4067 - categorical_accuracy: 0.8371 - val_loss: 0.3146 - val_categorical_accuracy: 0.8400 - lr: 5.0000e-04\n",
            "Epoch 10/15\n",
            "133/133 [==============================] - ETA: 0s - loss: 0.2898 - categorical_accuracy: 0.8997\n",
            "Epoch 10: saving model to model_init_exp4_2022-08-1217_06_04.165188/model-00010-0.28977-0.89975-0.34134-0.88000.h5\n",
            "133/133 [==============================] - 95s 716ms/step - loss: 0.2898 - categorical_accuracy: 0.8997 - val_loss: 0.3413 - val_categorical_accuracy: 0.8800 - lr: 5.0000e-04\n",
            "Epoch 11/15\n",
            "133/133 [==============================] - ETA: 0s - loss: 0.3539 - categorical_accuracy: 0.8421\n",
            "Epoch 11: saving model to model_init_exp4_2022-08-1217_06_04.165188/model-00011-0.35394-0.84211-0.23431-0.86000.h5\n",
            "133/133 [==============================] - 98s 739ms/step - loss: 0.3539 - categorical_accuracy: 0.8421 - val_loss: 0.2343 - val_categorical_accuracy: 0.8600 - lr: 5.0000e-04\n",
            "Epoch 12/15\n",
            "133/133 [==============================] - ETA: 0s - loss: 0.3261 - categorical_accuracy: 0.8747\n",
            "Epoch 12: saving model to model_init_exp4_2022-08-1217_06_04.165188/model-00012-0.32614-0.87469-0.32547-0.87000.h5\n",
            "133/133 [==============================] - 101s 761ms/step - loss: 0.3261 - categorical_accuracy: 0.8747 - val_loss: 0.3255 - val_categorical_accuracy: 0.8700 - lr: 5.0000e-04\n",
            "Epoch 13/15\n",
            "133/133 [==============================] - ETA: 0s - loss: 0.4329 - categorical_accuracy: 0.8321\n",
            "Epoch 13: saving model to model_init_exp4_2022-08-1217_06_04.165188/model-00013-0.43291-0.83208-0.39432-0.85000.h5\n",
            "\n",
            "Epoch 13: ReduceLROnPlateau reducing learning rate to 0.0002500000118743628.\n",
            "133/133 [==============================] - 99s 748ms/step - loss: 0.4329 - categorical_accuracy: 0.8321 - val_loss: 0.3943 - val_categorical_accuracy: 0.8500 - lr: 5.0000e-04\n",
            "Epoch 14/15\n",
            "133/133 [==============================] - ETA: 0s - loss: 0.2405 - categorical_accuracy: 0.9273\n",
            "Epoch 14: saving model to model_init_exp4_2022-08-1217_06_04.165188/model-00014-0.24048-0.92732-0.17981-0.95000.h5\n",
            "133/133 [==============================] - 96s 723ms/step - loss: 0.2405 - categorical_accuracy: 0.9273 - val_loss: 0.1798 - val_categorical_accuracy: 0.9500 - lr: 2.5000e-04\n",
            "Epoch 15/15\n",
            "133/133 [==============================] - ETA: 0s - loss: 0.1955 - categorical_accuracy: 0.9273\n",
            "Epoch 15: saving model to model_init_exp4_2022-08-1217_06_04.165188/model-00015-0.19548-0.92732-0.26869-0.87000.h5\n",
            "133/133 [==============================] - 101s 765ms/step - loss: 0.1955 - categorical_accuracy: 0.9273 - val_loss: 0.2687 - val_categorical_accuracy: 0.8700 - lr: 2.5000e-04\n"
          ]
        }
      ]
    },
    {
      "cell_type": "code",
      "source": [
        "plot_metrics(metrics4)"
      ],
      "metadata": {
        "colab": {
          "base_uri": "https://localhost:8080/",
          "height": 334
        },
        "outputId": "2dda1ddd-d9cc-412b-b2db-12d80e37931b",
        "id": "-mqk_9mevOth"
      },
      "execution_count": null,
      "outputs": [
        {
          "output_type": "display_data",
          "data": {
            "text/plain": [
              "<IPython.core.display.Markdown object>"
            ],
            "text/markdown": "**Training Accuracy:** 0.93%"
          },
          "metadata": {}
        },
        {
          "output_type": "display_data",
          "data": {
            "text/plain": [
              "<IPython.core.display.Markdown object>"
            ],
            "text/markdown": "**Validation Accuracy:** 0.87%"
          },
          "metadata": {}
        },
        {
          "output_type": "display_data",
          "data": {
            "text/plain": [
              "<Figure size 1080x288 with 2 Axes>"
            ],
            "image/png": "[encoded data removed]"
          },
          "metadata": {
            "needs_background": "light"
          }
        }
      ]
    },
    {
      "cell_type": "markdown",
      "source": [
        "Based on the above experiments, the conclusion is that, Conv3D final model is the best:-\n",
        "> Reason:\n",
        "\n",
        "\n",
        "*   Training Accuracy : 94%, Validation Accuracy : 89%\n",
        "*   Number of Parameters is 1,299,941 which is considerably less than all other models and it has achieved this with very less tuning.\n",
        "*   Loss decreases smoothly with the run of each epoch that too with less model parameters.\n",
        "\n",
        "\n",
        "\n",
        "\n"
      ],
      "metadata": {
        "id": "ciPNlqHONQ-j"
      }
    },
    {
      "cell_type": "code",
      "source": [
        ""
      ],
      "metadata": {
        "id": "1IWNaBQ6Nik5"
      },
      "execution_count": null,
      "outputs": []
    }
  ],
  "metadata": {
    "colab": {
      "collapsed_sections": [],
      "name": "Gesture_Recognition_Final.ipynb",
      "provenance": []
    },
    "gpuClass": "standard",
    "kernelspec": {
      "display_name": "Python 3",
      "language": "python",
      "name": "python3"
    },
    "language_info": {
      "codemirror_mode": {
        "name": "ipython",
        "version": 3
      },
      "file_extension": ".py",
      "mimetype": "text/x-python",
      "name": "python",
      "nbconvert_exporter": "python",
      "pygments_lexer": "ipython3",
      "version": "3.8.8"
    }
  },
  "nbformat": 4,
  "nbformat_minor": 0
}